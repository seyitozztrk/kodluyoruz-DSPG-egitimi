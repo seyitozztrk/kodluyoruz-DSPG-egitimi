{
  "nbformat": 4,
  "nbformat_minor": 0,
  "metadata": {
    "colab": {
      "name": "patikadevİleriPython2_closure.ipynb",
      "provenance": [],
      "collapsed_sections": []
    },
    "kernelspec": {
      "name": "python3",
      "display_name": "Python 3"
    },
    "language_info": {
      "name": "python"
    }
  },
  "cells": [
    {
      "cell_type": "markdown",
      "metadata": {
        "id": "XskeNC3erQAJ"
      },
      "source": [
        "#Closure\n",
        "\n",
        ".Outer(dış) fonksiyonu çağırdıktan sonra bile inner function'ın outer function scope'una erişebilmesi"
      ]
    },
    {
      "cell_type": "code",
      "metadata": {
        "id": "uvwygC4vqxIf"
      },
      "source": [
        "def outer():\n",
        "  msg=\"hey\"\n",
        "\n",
        "  def inner():\n",
        "\n",
        "    print(msg)\n",
        "\n",
        "  return inner() "
      ],
      "execution_count": 3,
      "outputs": []
    },
    {
      "cell_type": "code",
      "metadata": {
        "colab": {
          "base_uri": "https://localhost:8080/"
        },
        "id": "paHeaBNaskaE",
        "outputId": "8e6ce74d-c70a-4b24-8d7e-0d8aff9b3137"
      },
      "source": [
        "outer()\n",
        "# inner function enclosing scope'a erişip msg değişkenini bastırabildi."
      ],
      "execution_count": 5,
      "outputs": [
        {
          "output_type": "stream",
          "text": [
            "hey\n"
          ],
          "name": "stdout"
        }
      ]
    },
    {
      "cell_type": "code",
      "metadata": {
        "id": "H9vn6JTvskck"
      },
      "source": [
        "def"
      ],
      "execution_count": null,
      "outputs": []
    },
    {
      "cell_type": "code",
      "metadata": {
        "id": "HglRtcMtskfM"
      },
      "source": [
        "def outer():\n",
        "  msg=\"hey\"\n",
        "\n",
        "  def inner():\n",
        "\n",
        "    print(msg)\n",
        "\n",
        "  return inner"
      ],
      "execution_count": 6,
      "outputs": []
    },
    {
      "cell_type": "code",
      "metadata": {
        "id": "JlVh7e6jskh5"
      },
      "source": [
        "f = outer()"
      ],
      "execution_count": 7,
      "outputs": []
    },
    {
      "cell_type": "code",
      "metadata": {
        "colab": {
          "base_uri": "https://localhost:8080/"
        },
        "id": "tReS9qmWskkk",
        "outputId": "e313b5ef-0954-44c0-921a-4184d090c97a"
      },
      "source": [
        "f"
      ],
      "execution_count": 8,
      "outputs": [
        {
          "output_type": "execute_result",
          "data": {
            "text/plain": [
              "<function __main__.outer.<locals>.inner>"
            ]
          },
          "metadata": {
            "tags": []
          },
          "execution_count": 8
        }
      ]
    },
    {
      "cell_type": "code",
      "metadata": {
        "id": "99N2G4hFsknb"
      },
      "source": [
        "# şimdi outer function'ı çağırmış olduk ve bize içinde tanımlanan inner function'ı obje olarak döndürmüş oldu. function call yapmadığım sürece obje olarak kalacak."
      ],
      "execution_count": 9,
      "outputs": []
    },
    {
      "cell_type": "code",
      "metadata": {
        "colab": {
          "base_uri": "https://localhost:8080/"
        },
        "id": "Yq76oX4gskqK",
        "outputId": "53fd1445-204f-4623-a4d1-f4d721cf09b6"
      },
      "source": [
        "f()"
      ],
      "execution_count": 10,
      "outputs": [
        {
          "output_type": "stream",
          "text": [
            "hey\n"
          ],
          "name": "stdout"
        }
      ]
    },
    {
      "cell_type": "code",
      "metadata": {
        "id": "E_3H7DJcsktI"
      },
      "source": [
        "# burada outer function çağrılmış olsa da onun scope'unda tanımlanan değişkene hala erişebildik."
      ],
      "execution_count": 11,
      "outputs": []
    },
    {
      "cell_type": "code",
      "metadata": {
        "id": "kPSpqUbcskwn"
      },
      "source": [
        "def outer(msg):\n",
        "  msg_ = msg\n",
        "\n",
        "  def inner():\n",
        "\n",
        "    print(msg_)\n",
        "\n",
        "  return inner"
      ],
      "execution_count": 13,
      "outputs": []
    },
    {
      "cell_type": "code",
      "metadata": {
        "id": "J0qKIOt3skzm"
      },
      "source": [
        "hi_f = outer(\"hi\")"
      ],
      "execution_count": 14,
      "outputs": []
    },
    {
      "cell_type": "code",
      "metadata": {
        "id": "lAFMU2Hcsk2Y"
      },
      "source": [
        "hey_f = outer(\"hey\")"
      ],
      "execution_count": 15,
      "outputs": []
    },
    {
      "cell_type": "code",
      "metadata": {
        "colab": {
          "base_uri": "https://localhost:8080/"
        },
        "id": "ADhNVUK7sk6A",
        "outputId": "37351899-5548-47aa-bdcf-ed8521c8c113"
      },
      "source": [
        "hi_f()"
      ],
      "execution_count": 16,
      "outputs": [
        {
          "output_type": "stream",
          "text": [
            "hi\n"
          ],
          "name": "stdout"
        }
      ]
    },
    {
      "cell_type": "code",
      "metadata": {
        "colab": {
          "base_uri": "https://localhost:8080/"
        },
        "id": "2qj_URawsk8k",
        "outputId": "af43a29f-119e-41b2-ea88-fc9b49e40af6"
      },
      "source": [
        "hey_f()"
      ],
      "execution_count": 17,
      "outputs": [
        {
          "output_type": "stream",
          "text": [
            "hey\n"
          ],
          "name": "stdout"
        }
      ]
    },
    {
      "cell_type": "code",
      "metadata": {
        "id": "ge6xEec5sk-_"
      },
      "source": [
        ""
      ],
      "execution_count": null,
      "outputs": []
    },
    {
      "cell_type": "code",
      "metadata": {
        "id": "GnxXuO0zslCd"
      },
      "source": [
        "# ÖDEV \n",
        "\n",
        "import operator\n",
        "import math \n",
        "\n",
        "def person_lister(f):\n",
        "    def inner(people):\n",
        "        arr = []\n",
        "        for _ in range(len(people)):\n",
        "            indx = 0\n",
        "            number = math.inf\n",
        "            for j in people:\n",
        "                k = int(j[2])\n",
        "                if k <  number:\n",
        "                    number = k\n",
        "                    indx = people.index(j)\n",
        "            finding = people.pop(indx)\n",
        "            #print()\n",
        "            arr.append(f(finding))\n",
        "        return arr\n",
        "    return inner\n",
        "\n",
        "@person_lister\n",
        "def name_format(person):\n",
        "    return (\"Mr. \" if person[3] == \"M\" else \"Ms. \") + person[0] + \" \" + person[1]\n",
        "\n",
        "if __name__ == '__main__':\n",
        "    people = [input().split() for i in range(int(input()))]\n",
        "    print(*name_format(people), sep='\\n')"
      ],
      "execution_count": null,
      "outputs": []
    },
    {
      "cell_type": "code",
      "metadata": {
        "id": "LzeQs2ZfslFS"
      },
      "source": [
        ""
      ],
      "execution_count": null,
      "outputs": []
    }
  ]
}