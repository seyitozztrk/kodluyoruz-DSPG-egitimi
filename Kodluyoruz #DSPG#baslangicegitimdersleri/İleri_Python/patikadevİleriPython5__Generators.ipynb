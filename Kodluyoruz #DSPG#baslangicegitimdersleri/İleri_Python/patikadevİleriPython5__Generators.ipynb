{
  "nbformat": 4,
  "nbformat_minor": 0,
  "metadata": {
    "colab": {
      "name": "patikadevİleriPython5__Generators.ipynb",
      "provenance": [],
      "collapsed_sections": []
    },
    "kernelspec": {
      "name": "python3",
      "display_name": "Python 3"
    },
    "language_info": {
      "name": "python"
    }
  },
  "cells": [
    {
      "cell_type": "markdown",
      "metadata": {
        "id": "4fysM4Oid2eR"
      },
      "source": [
        "# Generators"
      ]
    },
    {
      "cell_type": "markdown",
      "metadata": {
        "id": "sMpHvf1QfkBM"
      },
      "source": [
        ". Diyelim ki elimdeki bir listenin elemanlarının karesini almak istiyorum."
      ]
    },
    {
      "cell_type": "code",
      "metadata": {
        "id": "iAtdXPCXfpJh"
      },
      "source": [
        "def square(l):\n",
        "  res = []\n",
        "  \n",
        "  for e in l:\n",
        "    res.append(e*e)\n",
        "\n",
        "  return res"
      ],
      "execution_count": 1,
      "outputs": []
    },
    {
      "cell_type": "code",
      "metadata": {
        "colab": {
          "base_uri": "https://localhost:8080/"
        },
        "id": "O526mzGNZLfS",
        "outputId": "9ea20a3f-f3f6-441e-d29b-23cebe699da7"
      },
      "source": [
        "l = [1,2,3]\n",
        "square(l)"
      ],
      "execution_count": 2,
      "outputs": [
        {
          "output_type": "execute_result",
          "data": {
            "text/plain": [
              "[1, 4, 9]"
            ]
          },
          "metadata": {
            "tags": []
          },
          "execution_count": 2
        }
      ]
    },
    {
      "cell_type": "markdown",
      "metadata": {
        "id": "e9O_V6Ucf1t7"
      },
      "source": [
        ". Peki bu değerleri bir anda istemesem de, ben sordukça üretip bana döndürse? \n",
        "\n",
        ". Bunu generator mantığı ile yapabiliriz."
      ]
    },
    {
      "cell_type": "code",
      "metadata": {
        "id": "Le-I1Mexfz0u"
      },
      "source": [
        "def square_generator(l):\n",
        "  for e in l:\n",
        "    yield e*e"
      ],
      "execution_count": 4,
      "outputs": []
    },
    {
      "cell_type": "code",
      "metadata": {
        "id": "9Nc2aq9gfz3X"
      },
      "source": [
        "l = [1,2,3]\n",
        "g = square_generator(l)"
      ],
      "execution_count": 5,
      "outputs": []
    },
    {
      "cell_type": "code",
      "metadata": {
        "colab": {
          "base_uri": "https://localhost:8080/"
        },
        "id": "_0eWtaNJfz52",
        "outputId": "c0813bd2-2e8e-407f-9421-ed71b96e6fe0"
      },
      "source": [
        "g"
      ],
      "execution_count": 6,
      "outputs": [
        {
          "output_type": "execute_result",
          "data": {
            "text/plain": [
              "<generator object square_generator at 0x7f243005e4d0>"
            ]
          },
          "metadata": {
            "tags": []
          },
          "execution_count": 6
        }
      ]
    },
    {
      "cell_type": "markdown",
      "metadata": {
        "id": "_aSgDWIsgPAu"
      },
      "source": [
        ". Gnerator'lar bütün cevabı hafızada tutmazlar, biz sordukça değerleri döndürürler.\n",
        "\n",
        ". Generator'lar iterator'dır. ***next*** ile sonraki değerlerine erişebiliriz. "
      ]
    },
    {
      "cell_type": "code",
      "metadata": {
        "colab": {
          "base_uri": "https://localhost:8080/"
        },
        "id": "p2onsPIefz8b",
        "outputId": "e35df47f-b5df-4789-f6b8-88b954e2c163"
      },
      "source": [
        "next(g)"
      ],
      "execution_count": 7,
      "outputs": [
        {
          "output_type": "execute_result",
          "data": {
            "text/plain": [
              "1"
            ]
          },
          "metadata": {
            "tags": []
          },
          "execution_count": 7
        }
      ]
    },
    {
      "cell_type": "code",
      "metadata": {
        "colab": {
          "base_uri": "https://localhost:8080/"
        },
        "id": "28s6369nfz_H",
        "outputId": "4cebf624-fc8e-4901-f9bd-c56f6a7c0b19"
      },
      "source": [
        "next(g)"
      ],
      "execution_count": 8,
      "outputs": [
        {
          "output_type": "execute_result",
          "data": {
            "text/plain": [
              "4"
            ]
          },
          "metadata": {
            "tags": []
          },
          "execution_count": 8
        }
      ]
    },
    {
      "cell_type": "code",
      "metadata": {
        "colab": {
          "base_uri": "https://localhost:8080/"
        },
        "id": "U7MRCM3yf0CL",
        "outputId": "8bcb9e29-5e5a-462a-de27-dbbd448e59a7"
      },
      "source": [
        "next(g)"
      ],
      "execution_count": 9,
      "outputs": [
        {
          "output_type": "execute_result",
          "data": {
            "text/plain": [
              "9"
            ]
          },
          "metadata": {
            "tags": []
          },
          "execution_count": 9
        }
      ]
    },
    {
      "cell_type": "code",
      "metadata": {
        "colab": {
          "base_uri": "https://localhost:8080/",
          "height": 175
        },
        "id": "bNlt4cEKf0En",
        "outputId": "8ca22f09-40b6-4538-a013-dc4e1abd1eb6"
      },
      "source": [
        "# exhaust oldu. Bir daha baştan başlamak istiyorsam bir daha yaratmam lazım.\n",
        "next(g)"
      ],
      "execution_count": 11,
      "outputs": [
        {
          "output_type": "error",
          "ename": "StopIteration",
          "evalue": "ignored",
          "traceback": [
            "\u001b[0;31m---------------------------------------------------------------------------\u001b[0m",
            "\u001b[0;31mStopIteration\u001b[0m                             Traceback (most recent call last)",
            "\u001b[0;32m<ipython-input-11-9266eb660a95>\u001b[0m in \u001b[0;36m<module>\u001b[0;34m()\u001b[0m\n\u001b[1;32m      1\u001b[0m \u001b[0;31m# exhaust oldu. Bir daha baştan başlamak istiyorsam bir daha yaratmam lazım.\u001b[0m\u001b[0;34m\u001b[0m\u001b[0;34m\u001b[0m\u001b[0;34m\u001b[0m\u001b[0m\n\u001b[0;32m----> 2\u001b[0;31m \u001b[0mnext\u001b[0m\u001b[0;34m(\u001b[0m\u001b[0mg\u001b[0m\u001b[0;34m)\u001b[0m\u001b[0;34m\u001b[0m\u001b[0;34m\u001b[0m\u001b[0m\n\u001b[0m",
            "\u001b[0;31mStopIteration\u001b[0m: "
          ]
        }
      ]
    },
    {
      "cell_type": "markdown",
      "metadata": {
        "id": "tEB3wWucgkbc"
      },
      "source": [
        ""
      ]
    },
    {
      "cell_type": "code",
      "metadata": {
        "id": "Hymy3Ahtf0Hm"
      },
      "source": [
        "for res in g:\n",
        "  print(res)"
      ],
      "execution_count": 12,
      "outputs": []
    },
    {
      "cell_type": "code",
      "metadata": {
        "id": "b-LcavO4f0Kn"
      },
      "source": [
        "g = square_generator(l)"
      ],
      "execution_count": 13,
      "outputs": []
    },
    {
      "cell_type": "markdown",
      "metadata": {
        "id": "3k-HwVzKg2X4"
      },
      "source": [
        ". Değerleri arasında iterasyonu for döngüsü ile de yapabilirim."
      ]
    },
    {
      "cell_type": "code",
      "metadata": {
        "colab": {
          "base_uri": "https://localhost:8080/"
        },
        "id": "GcuWcXbaf0Mz",
        "outputId": "6070f561-5d2c-4212-c97c-cf5bb6466d3b"
      },
      "source": [
        "for res in g:\n",
        "  print(res)"
      ],
      "execution_count": 14,
      "outputs": [
        {
          "output_type": "stream",
          "text": [
            "1\n",
            "4\n",
            "9\n"
          ],
          "name": "stdout"
        }
      ]
    },
    {
      "cell_type": "code",
      "metadata": {
        "id": "xajuRq4vf0Pw"
      },
      "source": [
        "for res in g:\n",
        "  print(res)"
      ],
      "execution_count": 15,
      "outputs": []
    },
    {
      "cell_type": "markdown",
      "metadata": {
        "id": "uhIQA0JjhGaj"
      },
      "source": [
        ". next, next yaparak sıradaki işlemleri yaparız. bir pointer vardır ve bu pointer hangi işlemde kaldıysak orayı işaretler. sıradaki next ile kaldığı yerden devam eder."
      ]
    },
    {
      "cell_type": "markdown",
      "metadata": {
        "id": "t-w_VPO7hlZr"
      },
      "source": [
        "# List Comprehension Oluşturur Gibi Generator Oluşturma "
      ]
    },
    {
      "cell_type": "code",
      "metadata": {
        "id": "RxkrD-eFf0R2"
      },
      "source": [
        "l = [x*x for x in [1,2,3,4,5]]"
      ],
      "execution_count": 16,
      "outputs": []
    },
    {
      "cell_type": "code",
      "metadata": {
        "colab": {
          "base_uri": "https://localhost:8080/"
        },
        "id": "nyfBffiaf0Um",
        "outputId": "6fb2f9df-0d9c-426b-a094-37c6973deb52"
      },
      "source": [
        "l"
      ],
      "execution_count": 17,
      "outputs": [
        {
          "output_type": "execute_result",
          "data": {
            "text/plain": [
              "[1, 4, 9, 16, 25]"
            ]
          },
          "metadata": {
            "tags": []
          },
          "execution_count": 17
        }
      ]
    },
    {
      "cell_type": "code",
      "metadata": {
        "id": "5jVE51Hbf0Xi"
      },
      "source": [
        "# comprehension yapar gibi yapıyoruz fakat normal parantez kullanırız.\n",
        "g = (x*x for x in [1,2,3,4,5])"
      ],
      "execution_count": 18,
      "outputs": []
    },
    {
      "cell_type": "code",
      "metadata": {
        "colab": {
          "base_uri": "https://localhost:8080/"
        },
        "id": "l_124XrLf0aD",
        "outputId": "e5dc5c5c-bcfb-4b62-f703-964e8e27203e"
      },
      "source": [
        "g"
      ],
      "execution_count": 19,
      "outputs": [
        {
          "output_type": "execute_result",
          "data": {
            "text/plain": [
              "<generator object <genexpr> at 0x7f2430038350>"
            ]
          },
          "metadata": {
            "tags": []
          },
          "execution_count": 19
        }
      ]
    },
    {
      "cell_type": "code",
      "metadata": {
        "colab": {
          "base_uri": "https://localhost:8080/"
        },
        "id": "YXbSnsmVf0ch",
        "outputId": "c8ed5869-6a05-4ab6-aee6-a17babfbee07"
      },
      "source": [
        "for e in g:\n",
        "  print(e)"
      ],
      "execution_count": 20,
      "outputs": [
        {
          "output_type": "stream",
          "text": [
            "1\n",
            "4\n",
            "9\n",
            "16\n",
            "25\n"
          ],
          "name": "stdout"
        }
      ]
    },
    {
      "cell_type": "markdown",
      "metadata": {
        "id": "VbKT-Eg-iAmB"
      },
      "source": [
        "# Generator'ı Lis'e Dönüştürme"
      ]
    },
    {
      "cell_type": "code",
      "metadata": {
        "id": "wphd2a1wf0e7"
      },
      "source": [
        "g = (x*x for x in [1,2,3,4,5])"
      ],
      "execution_count": 21,
      "outputs": []
    },
    {
      "cell_type": "code",
      "metadata": {
        "colab": {
          "base_uri": "https://localhost:8080/"
        },
        "id": "PuDjqTbUf0hu",
        "outputId": "3f44ae80-71e3-48f3-c43f-f0e4f52d32a6"
      },
      "source": [
        "next(g)"
      ],
      "execution_count": 25,
      "outputs": [
        {
          "output_type": "execute_result",
          "data": {
            "text/plain": [
              "16"
            ]
          },
          "metadata": {
            "tags": []
          },
          "execution_count": 25
        }
      ]
    },
    {
      "cell_type": "code",
      "metadata": {
        "id": "Qxl3Y-igf0kw"
      },
      "source": [
        "g = (x*x for x in [1,2,3,4,5])"
      ],
      "execution_count": 26,
      "outputs": []
    },
    {
      "cell_type": "code",
      "metadata": {
        "colab": {
          "base_uri": "https://localhost:8080/"
        },
        "id": "dA87nQG-f0ne",
        "outputId": "9545c1e0-62e3-46f6-c286-6218101d28f5"
      },
      "source": [
        "list(g)"
      ],
      "execution_count": 27,
      "outputs": [
        {
          "output_type": "execute_result",
          "data": {
            "text/plain": [
              "[1, 4, 9, 16, 25]"
            ]
          },
          "metadata": {
            "tags": []
          },
          "execution_count": 27
        }
      ]
    },
    {
      "cell_type": "markdown",
      "metadata": {
        "id": "M5EgfjwYiXVS"
      },
      "source": [
        "# Generators\n",
        "\n",
        ". Kısa yoldan iterator yaratmamıza olanak sağlar. \n",
        "\n",
        ". Uğraştıklarımız az elemanlar olunca çok farkını anlamayabiliriz AMA fazla sayıda elemanlarla uğraşıyorsak, hepsini bir anda hafızada tutmaya çalışmak çok yer kaplayabilir. Generator'lar istendiğinde elemanları döndürdükleri için bu hafıza sorununa iyi gelebilirler.\n",
        "\n",
        ". list(generator) yaptığımız zaman bu özelliğini kaybeder."
      ]
    }
  ]
}