{
  "nbformat": 4,
  "nbformat_minor": 0,
  "metadata": {
    "colab": {
      "name": "patikadevİleriPython3_Decorators.ipynb",
      "provenance": [],
      "collapsed_sections": []
    },
    "kernelspec": {
      "name": "python3",
      "display_name": "Python 3"
    },
    "language_info": {
      "name": "python"
    }
  },
  "cells": [
    {
      "cell_type": "markdown",
      "metadata": {
        "id": "KCKOr7HT9e64"
      },
      "source": [
        "# Decorators\n",
        ".Decorator'lar başka fonksiyonları parametre olarak kabul edip yeni bir fonksiyonalite ile yeni bir fonksiyon döndüren yapılardır."
      ]
    },
    {
      "cell_type": "code",
      "metadata": {
        "id": "G1YUA10s9d8v"
      },
      "source": [
        "def print_func():\n",
        "  print('hey')"
      ],
      "execution_count": 1,
      "outputs": []
    },
    {
      "cell_type": "code",
      "metadata": {
        "id": "0DeJqW2-_9vR"
      },
      "source": [
        "def decorator_func(func):\n",
        "  def wrapper_func():\n",
        "    return func()\n",
        "\n",
        "  return wrapper_func"
      ],
      "execution_count": 2,
      "outputs": []
    },
    {
      "cell_type": "code",
      "metadata": {
        "colab": {
          "base_uri": "https://localhost:8080/"
        },
        "id": "x0VwQwgW_9xx",
        "outputId": "0986e315-8d19-4f13-9999-8743cc0573ef"
      },
      "source": [
        "decorated_print = decorator_func(print_func)\n",
        "decorated_print()"
      ],
      "execution_count": 4,
      "outputs": [
        {
          "output_type": "stream",
          "text": [
            "hey\n"
          ],
          "name": "stdout"
        }
      ]
    },
    {
      "cell_type": "markdown",
      "metadata": {
        "id": "Xld8lkXPAWWa"
      },
      "source": [
        "*** Var olan fonksiyona fonksiyonu değiştirmeden yeni bir davranış kazandıracağız.***"
      ]
    },
    {
      "cell_type": "code",
      "metadata": {
        "id": "LWV5aFP7_90U"
      },
      "source": [
        "def decorator_func(func):\n",
        "  def wrapper_func():\n",
        "    print(f\"the name of the function is {func.__name__}\")\n",
        "    return func()\n",
        "\n",
        "  return wrapper_func"
      ],
      "execution_count": 5,
      "outputs": []
    },
    {
      "cell_type": "code",
      "metadata": {
        "colab": {
          "base_uri": "https://localhost:8080/"
        },
        "id": "zKdRmMgZ_92t",
        "outputId": "ef4727ec-21bf-4287-87c7-4c3edfbd559e"
      },
      "source": [
        "decorated_print = decorator_func(print_func)\n",
        "decorated_print()"
      ],
      "execution_count": 6,
      "outputs": [
        {
          "output_type": "stream",
          "text": [
            "the name of the function is print_func\n",
            "hey\n"
          ],
          "name": "stdout"
        }
      ]
    },
    {
      "cell_type": "markdown",
      "metadata": {
        "id": "d5PPNPFzA8rH"
      },
      "source": [
        "**** aynı şeyi şu şekilde de yapabilirdik *****"
      ]
    },
    {
      "cell_type": "code",
      "metadata": {
        "id": "5hT0ptUR_95J"
      },
      "source": [
        "# aşağıdaki fonk. bu yöntem ile aynı işlevi yapıyor->  print_func = decorator_func(print_func)\n",
        "@decorator_func\n",
        "def print_func():\n",
        "  print(\"hey\")"
      ],
      "execution_count": 7,
      "outputs": []
    },
    {
      "cell_type": "markdown",
      "metadata": {
        "id": "dwXGutEtBQ-L"
      },
      "source": [
        "*** @func'un yapınca aslında fonksiyonumuzu func'a input alarak veriyoruz.***\n",
        "\n",
        "*** @decorator_func -> ben print_func fonksiyonunu parametre olarak bana ait olan fonksiyonun içerisinde aldım demek!***"
      ]
    },
    {
      "cell_type": "code",
      "metadata": {
        "colab": {
          "base_uri": "https://localhost:8080/"
        },
        "id": "k8qVPVTL_97o",
        "outputId": "2c118e15-f498-4844-81d5-1c05674f1e3d"
      },
      "source": [
        "print_func()"
      ],
      "execution_count": 8,
      "outputs": [
        {
          "output_type": "stream",
          "text": [
            "the name of the function is print_func\n",
            "hey\n"
          ],
          "name": "stdout"
        }
      ]
    },
    {
      "cell_type": "code",
      "metadata": {
        "id": "Ga2yO9Sx_9-K"
      },
      "source": [
        ""
      ],
      "execution_count": null,
      "outputs": []
    },
    {
      "cell_type": "code",
      "metadata": {
        "id": "8Xcu9NXw_-AJ"
      },
      "source": [
        "def func(name, number):\n",
        "  print(f\"name: {name}, number: {number}\")"
      ],
      "execution_count": 9,
      "outputs": []
    },
    {
      "cell_type": "code",
      "metadata": {
        "colab": {
          "base_uri": "https://localhost:8080/"
        },
        "id": "HNxfs85G_-Cf",
        "outputId": "035ec683-907e-4391-ec9a-c68129c76252"
      },
      "source": [
        "func(\"seyit\", 111)"
      ],
      "execution_count": 10,
      "outputs": [
        {
          "output_type": "stream",
          "text": [
            "name: seyit, number: 111\n"
          ],
          "name": "stdout"
        }
      ]
    },
    {
      "cell_type": "code",
      "metadata": {
        "id": "rLjZwaXX_-Hf"
      },
      "source": [
        ""
      ],
      "execution_count": null,
      "outputs": []
    },
    {
      "cell_type": "code",
      "metadata": {
        "id": "IRKJX3Sp_-FD"
      },
      "source": [
        "def decorator_func_(func):\n",
        "  def wrapper_func(*args):\n",
        "    print(f\"the name of the function is {func.__name__}\")\n",
        "    return func(*args)\n",
        "\n",
        "  return wrapper_func"
      ],
      "execution_count": 16,
      "outputs": []
    },
    {
      "cell_type": "code",
      "metadata": {
        "id": "KJBLGJYp_-Ks"
      },
      "source": [
        "@decorator_func_\n",
        "def func_(name, number):\n",
        "  print(f\"name: {name}, number: {number}\")\n"
      ],
      "execution_count": 19,
      "outputs": []
    },
    {
      "cell_type": "code",
      "metadata": {
        "colab": {
          "base_uri": "https://localhost:8080/"
        },
        "id": "HsTA9XTB_-NH",
        "outputId": "27f71297-df18-427f-ccd5-1ea27a249be7"
      },
      "source": [
        "func_(\"jale\", 10)"
      ],
      "execution_count": 20,
      "outputs": [
        {
          "output_type": "stream",
          "text": [
            "the name of the function is func_\n",
            "name: jale, number: 10\n"
          ],
          "name": "stdout"
        }
      ]
    },
    {
      "cell_type": "code",
      "metadata": {
        "id": "QFUm6aeH_-Rn"
      },
      "source": [
        ""
      ],
      "execution_count": null,
      "outputs": []
    },
    {
      "cell_type": "code",
      "metadata": {
        "id": "wZzsDl4H_-Pa"
      },
      "source": [
        "# ÖDEV \n",
        "def wrapper(f):\n",
        "    def fun(l):\n",
        "        send_ = []\n",
        "        str_ = \"\"\n",
        "        for i in l : \n",
        "            \n",
        "            str_=  \"+91 \"+i[-10:-5]+\" \"+ i[-5:] \n",
        "            #print(str_)\n",
        "            send_.append(str_)\n",
        "\n",
        "        f(send_)\n",
        "    return fun\n",
        "\n",
        "@wrapper\n",
        "def sort_phone(l):\n",
        "    print(*sorted(l), sep='\\n')\n",
        "\n",
        "if __name__ == '__main__':\n",
        "    l = [input() for _ in range(int(input()))]\n",
        "    sort_phone(l) \n"
      ],
      "execution_count": null,
      "outputs": []
    }
  ]
}