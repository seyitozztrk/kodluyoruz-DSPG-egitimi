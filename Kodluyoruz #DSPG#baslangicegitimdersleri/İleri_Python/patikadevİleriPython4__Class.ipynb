{
  "nbformat": 4,
  "nbformat_minor": 0,
  "metadata": {
    "colab": {
      "name": "patikadevİleriPython4__Class.ipynb",
      "provenance": [],
      "collapsed_sections": [
        "Tlw_OARbKLzQ"
      ]
    },
    "kernelspec": {
      "name": "python3",
      "display_name": "Python 3"
    },
    "language_info": {
      "name": "python"
    }
  },
  "cells": [
    {
      "cell_type": "markdown",
      "metadata": {
        "id": "Tlw_OARbKLzQ"
      },
      "source": [
        "#Class Tanımlamak\n",
        "\n",
        "x Class mantığında hem fonksiyonalite hem de veriyi bir arada tutma yoluna bakacağız. \n",
        "\n",
        "x Class'ın içerisindeki veri(data)'lara attribute, fonksiyonlara method diyeceğiz. \n",
        "\n",
        "x Örneğin; bir iş yeri çalışanları kodumuzda ifade etmek istiyoruz. Sanki bu class mantığı ile uyumlu çalışacaktır. Her çalışanın farklı farklı özellikleri (attribute)'ları ve yaptıkları işler (methodları) olacaktır. \n",
        "\n",
        "x Class içerisinde method yaratırken, class'tan yaratılan objeyi methodlar ilk arguman olarak alır, ve bu argumana ortak ağız oluşması açısından \"self\" ismini veriyoruz. Fakat bu kişinin isteği doğrultusunda değişime uğrayabilir. "
      ]
    },
    {
      "cell_type": "markdown",
      "metadata": {
        "id": "F1jI3xG0LmGg"
      },
      "source": [
        "#Attribute"
      ]
    },
    {
      "cell_type": "code",
      "metadata": {
        "colab": {
          "base_uri": "https://localhost:8080/",
          "height": 126
        },
        "id": "d07dO5MvGoVY",
        "outputId": "272ba33c-3f45-4a39-f989-2b008f87eba5"
      },
      "source": [
        "# it gives error \n",
        "class Employee:"
      ],
      "execution_count": null,
      "outputs": [
        {
          "output_type": "error",
          "ename": "SyntaxError",
          "evalue": "ignored",
          "traceback": [
            "\u001b[0;36m  File \u001b[0;32m\"<ipython-input-1-4c4cf58195f5>\"\u001b[0;36m, line \u001b[0;32m2\u001b[0m\n\u001b[0;31m    class Employee:\u001b[0m\n\u001b[0m                   ^\u001b[0m\n\u001b[0;31mSyntaxError\u001b[0m\u001b[0;31m:\u001b[0m unexpected EOF while parsing\n"
          ]
        }
      ]
    },
    {
      "cell_type": "code",
      "metadata": {
        "id": "NycKNTbNLnvy"
      },
      "source": [
        "class Employee:\n",
        "  pass "
      ],
      "execution_count": null,
      "outputs": []
    },
    {
      "cell_type": "code",
      "metadata": {
        "id": "eHl5JeZULnyB"
      },
      "source": [
        "e = Employee()\n",
        "\n",
        "# e objesine \"a\" attribute'u ekledik.\n",
        "e.a = 4"
      ],
      "execution_count": null,
      "outputs": []
    },
    {
      "cell_type": "code",
      "metadata": {
        "colab": {
          "base_uri": "https://localhost:8080/"
        },
        "id": "XDKb6OR8Ln0X",
        "outputId": "839f1a83-d82a-4fe7-8b19-daf5b0353aea"
      },
      "source": [
        "e.a"
      ],
      "execution_count": null,
      "outputs": [
        {
          "output_type": "execute_result",
          "data": {
            "text/plain": [
              "4"
            ]
          },
          "metadata": {
            "tags": []
          },
          "execution_count": 4
        }
      ]
    },
    {
      "cell_type": "code",
      "metadata": {
        "id": "FedHieuoLn3h"
      },
      "source": [
        "# yukarıdaki gibi tek tek vermek yerine en başta class'ı tanımlarken bütün attribute'ları verebiliriz. \n",
        "\n",
        "class Employee:\n",
        "  def __init__(self, name, last, age, pay):\n",
        "    self.name = name \n",
        "    self.last = last \n",
        "    self.age = age \n",
        "    self.pay = pay "
      ],
      "execution_count": null,
      "outputs": []
    },
    {
      "cell_type": "code",
      "metadata": {
        "id": "FHBtveMhLn55"
      },
      "source": [
        "# class bu parametrelr ile birlikte obje yaratmak için bir kalıptır sadece!!!\n",
        "emp_1 = Employee(\"seyit\", \"cabbar\", \"44\", 44444)\n",
        "\n",
        "# üst satırdaki kod ile bir obje yarattık, Employee class'ının bir objesi"
      ],
      "execution_count": null,
      "outputs": []
    },
    {
      "cell_type": "code",
      "metadata": {
        "colab": {
          "base_uri": "https://localhost:8080/",
          "height": 35
        },
        "id": "3mnOMZCHLn8W",
        "outputId": "919caa67-3bbb-4900-ad95-1a2c65be0f33"
      },
      "source": [
        "emp_1.last"
      ],
      "execution_count": null,
      "outputs": [
        {
          "output_type": "execute_result",
          "data": {
            "application/vnd.google.colaboratory.intrinsic+json": {
              "type": "string"
            },
            "text/plain": [
              "'cabbar'"
            ]
          },
          "metadata": {
            "tags": []
          },
          "execution_count": 10
        }
      ]
    },
    {
      "cell_type": "markdown",
      "metadata": {
        "id": "NNrOVCu1MuiZ"
      },
      "source": [
        "Burada yaratılan bütün attribute'lar instance variable'dır. Her obje (classtan yaratılan instance), kendine özel attribute'a sahip(iki kişinin adı aynı olabilir) fakat hepsi için ayrı bir variable var ve hepsi kendi age attribute'unda tutuluyor."
      ]
    },
    {
      "cell_type": "code",
      "metadata": {
        "id": "6xtDfKU7Ln_I"
      },
      "source": [
        "class Employee:\n",
        "  def __init__(self, name, last, age, pay):\n",
        "    self.name = name \n",
        "    self.last = last \n",
        "    self.age = age \n",
        "    self.pay = pay \n",
        "\n",
        "  def fullname(self):\n",
        "    print(f\"{self.name} {self.last}\") "
      ],
      "execution_count": null,
      "outputs": []
    },
    {
      "cell_type": "code",
      "metadata": {
        "colab": {
          "base_uri": "https://localhost:8080/"
        },
        "id": "mtGMe_uELoBa",
        "outputId": "89eeb3b8-e1d7-4958-de30-576b26eb8de0"
      },
      "source": [
        "emp_2 = Employee(\"seyit2\", \"cabbar2\", \"22\", 2222)\n",
        "emp_3 = Employee(\"seyit3\", \"cabbar3\", \"44\", 3333)\n",
        "emp_2.fullname()\n",
        "emp_3.fullname()"
      ],
      "execution_count": null,
      "outputs": [
        {
          "output_type": "stream",
          "text": [
            "seyit2 cabbar2\n",
            "seyit3 cabbar3\n"
          ],
          "name": "stdout"
        }
      ]
    },
    {
      "cell_type": "markdown",
      "metadata": {
        "id": "1ESDzq2vAB-P"
      },
      "source": [
        "**. Instance Variable : *** Class'tan yaratılan objelerin kendilerine özgü değişkenleri. Bu örnekteki name, last,age,pay gibi..\n",
        "\n",
        "**. Class Variable :  **** Class'tan yaratılan tüm objelerde paylaşılan değişkenler.\n",
        "\n",
        "**. Mesela tüm çalışanlar arasında hangi verinin paylaşılmasını isteyebilirim ? Şirket herkese aynı yüzdelik zam uyguluyorsa bunun yüzdesini class variable'ı olarak tutabilirim ***"
      ]
    },
    {
      "cell_type": "code",
      "metadata": {
        "id": "c7TXPpA9LoDm"
      },
      "source": [
        "class Employee:\n",
        "    \n",
        "    raise_percent = 1.05\n",
        "\n",
        "    def __init__(self, name, last, age, pay):\n",
        "        self.name = name\n",
        "        self.last = last \n",
        "        self.age = age\n",
        "        self.pay = pay \n",
        "    \n",
        "    def apply_raise(self):\n",
        "        self.pay = self.pay * raise_percent"
      ],
      "execution_count": 6,
      "outputs": []
    },
    {
      "cell_type": "code",
      "metadata": {
        "id": "cZRXqZZNAAsC"
      },
      "source": [
        "emp_1 = Employee(\"Seyido\", \"ahmedo\", \"41\", 54)"
      ],
      "execution_count": 7,
      "outputs": []
    },
    {
      "cell_type": "code",
      "metadata": {
        "colab": {
          "base_uri": "https://localhost:8080/",
          "height": 240
        },
        "id": "e2Atll_bAAui",
        "outputId": "9ad1213b-6146-48b7-f608-46e4dff3943d"
      },
      "source": [
        "emp_1.apply_raise()"
      ],
      "execution_count": 3,
      "outputs": [
        {
          "output_type": "error",
          "ename": "NameError",
          "evalue": "ignored",
          "traceback": [
            "\u001b[0;31m---------------------------------------------------------------------------\u001b[0m",
            "\u001b[0;31mNameError\u001b[0m                                 Traceback (most recent call last)",
            "\u001b[0;32m<ipython-input-3-201f887ff8cf>\u001b[0m in \u001b[0;36m<module>\u001b[0;34m()\u001b[0m\n\u001b[0;32m----> 1\u001b[0;31m \u001b[0memp_1\u001b[0m\u001b[0;34m.\u001b[0m\u001b[0mapply_raise\u001b[0m\u001b[0;34m(\u001b[0m\u001b[0;34m)\u001b[0m\u001b[0;34m\u001b[0m\u001b[0;34m\u001b[0m\u001b[0m\n\u001b[0m",
            "\u001b[0;32m<ipython-input-1-6bdda3bf2d48>\u001b[0m in \u001b[0;36mapply_raise\u001b[0;34m(self)\u001b[0m\n\u001b[1;32m     10\u001b[0m \u001b[0;34m\u001b[0m\u001b[0m\n\u001b[1;32m     11\u001b[0m     \u001b[0;32mdef\u001b[0m \u001b[0mapply_raise\u001b[0m\u001b[0;34m(\u001b[0m\u001b[0mself\u001b[0m\u001b[0;34m)\u001b[0m\u001b[0;34m:\u001b[0m\u001b[0;34m\u001b[0m\u001b[0;34m\u001b[0m\u001b[0m\n\u001b[0;32m---> 12\u001b[0;31m         \u001b[0mself\u001b[0m\u001b[0;34m.\u001b[0m\u001b[0mpay\u001b[0m \u001b[0;34m=\u001b[0m \u001b[0mself\u001b[0m\u001b[0;34m.\u001b[0m\u001b[0mpay\u001b[0m \u001b[0;34m*\u001b[0m \u001b[0mraise_percent\u001b[0m\u001b[0;34m\u001b[0m\u001b[0;34m\u001b[0m\u001b[0m\n\u001b[0m",
            "\u001b[0;31mNameError\u001b[0m: name 'raise_percent' is not defined"
          ]
        }
      ]
    },
    {
      "cell_type": "markdown",
      "metadata": {
        "id": "lfHh18iYBRIL"
      },
      "source": [
        "***DİKKAT****: Class variable'larına ulaşmak için ya genel Class üzerinden ya da o sırada oluşturduğumuz obje üzerinden ulaşmamız lazım."
      ]
    },
    {
      "cell_type": "code",
      "metadata": {
        "colab": {
          "base_uri": "https://localhost:8080/"
        },
        "id": "KVf1hqWiAAxQ",
        "outputId": "cb492587-dfd5-4a2f-af65-c877e0b7ada1"
      },
      "source": [
        "emp_1.raise_percent"
      ],
      "execution_count": 9,
      "outputs": [
        {
          "output_type": "execute_result",
          "data": {
            "text/plain": [
              "1.05"
            ]
          },
          "metadata": {
            "tags": []
          },
          "execution_count": 9
        }
      ]
    },
    {
      "cell_type": "code",
      "metadata": {
        "colab": {
          "base_uri": "https://localhost:8080/"
        },
        "id": "_SHB_fSNAA0G",
        "outputId": "70c73266-0e91-4902-f915-7ba8e246358e"
      },
      "source": [
        "Employee.raise_percent"
      ],
      "execution_count": 10,
      "outputs": [
        {
          "output_type": "execute_result",
          "data": {
            "text/plain": [
              "1.05"
            ]
          },
          "metadata": {
            "tags": []
          },
          "execution_count": 10
        }
      ]
    },
    {
      "cell_type": "code",
      "metadata": {
        "id": "_ssxZQUsAA2U"
      },
      "source": [
        "class Employee:\n",
        "    \n",
        "    raise_percent = 1.05\n",
        "\n",
        "    def __init__(self, name, last, age, pay):\n",
        "        self.name = name\n",
        "        self.last = last \n",
        "        self.age = age\n",
        "        self.pay = pay \n",
        "    \n",
        "    def apply_raise(self):\n",
        "        self.pay = self.pay * Employee.raise_percent"
      ],
      "execution_count": 11,
      "outputs": []
    },
    {
      "cell_type": "code",
      "metadata": {
        "id": "-qwmHgPzAA5H"
      },
      "source": [
        "emp_1 = Employee(\"Seyido2\", \"ahmedo2\", \"42\", 52)\n",
        "emp_2 = Employee(\"Seyido3\", \"ahmedo3\", \"43\", 53)"
      ],
      "execution_count": 12,
      "outputs": []
    },
    {
      "cell_type": "code",
      "metadata": {
        "colab": {
          "base_uri": "https://localhost:8080/"
        },
        "id": "dXxbap9BAA7b",
        "outputId": "71851d26-e43f-4637-b0db-b3eacedf2e89"
      },
      "source": [
        "emp_1.pay"
      ],
      "execution_count": 13,
      "outputs": [
        {
          "output_type": "execute_result",
          "data": {
            "text/plain": [
              "52"
            ]
          },
          "metadata": {
            "tags": []
          },
          "execution_count": 13
        }
      ]
    },
    {
      "cell_type": "code",
      "metadata": {
        "id": "IRz0ySdeAA9y"
      },
      "source": [
        "emp_1.apply_raise()"
      ],
      "execution_count": 14,
      "outputs": []
    },
    {
      "cell_type": "code",
      "metadata": {
        "colab": {
          "base_uri": "https://localhost:8080/"
        },
        "id": "wgxjzNe7ABAU",
        "outputId": "64fd7f4c-fe5c-484d-f6cf-c2aa81257055"
      },
      "source": [
        "emp_1.pay"
      ],
      "execution_count": 15,
      "outputs": [
        {
          "output_type": "execute_result",
          "data": {
            "text/plain": [
              "54.6"
            ]
          },
          "metadata": {
            "tags": []
          },
          "execution_count": 15
        }
      ]
    },
    {
      "cell_type": "code",
      "metadata": {
        "id": "bxw0pPyVABDA"
      },
      "source": [
        "class Employee:\n",
        "    \n",
        "    raise_percent = 1.05\n",
        "\n",
        "    def __init__(self, name, last, age, pay):\n",
        "        self.name = name\n",
        "        self.last = last \n",
        "        self.age = age\n",
        "        self.pay = pay \n",
        "    \n",
        "    def apply_raise(self):\n",
        "        self.pay = self.pay * self.raise_percent"
      ],
      "execution_count": 16,
      "outputs": []
    },
    {
      "cell_type": "code",
      "metadata": {
        "id": "eqpF-LckABF7"
      },
      "source": [
        "emp_1 = Employee(\"Seyido2\", \"ahmedo2\", \"42\", 52)\n",
        "emp_2 = Employee(\"Seyido3\", \"ahmedo3\", \"43\", 53)"
      ],
      "execution_count": 17,
      "outputs": []
    },
    {
      "cell_type": "code",
      "metadata": {
        "id": "hUD_I2QUABIj"
      },
      "source": [
        "emp_1.apply_raise()"
      ],
      "execution_count": 18,
      "outputs": []
    },
    {
      "cell_type": "code",
      "metadata": {
        "colab": {
          "base_uri": "https://localhost:8080/"
        },
        "id": "VJOTVJAGABLL",
        "outputId": "096fd2c9-05c3-4e85-f906-d44d33a268fc"
      },
      "source": [
        "emp_1.pay"
      ],
      "execution_count": 19,
      "outputs": [
        {
          "output_type": "execute_result",
          "data": {
            "text/plain": [
              "54.6"
            ]
          },
          "metadata": {
            "tags": []
          },
          "execution_count": 19
        }
      ]
    },
    {
      "cell_type": "markdown",
      "metadata": {
        "id": "IBKH2DCeCH6A"
      },
      "source": [
        "*** emp_1.raise_percent -> *** ilk olarak bu instance'a bakar, eğer bulamazsa class variable olarak var mı diye bakar. "
      ]
    },
    {
      "cell_type": "code",
      "metadata": {
        "colab": {
          "base_uri": "https://localhost:8080/"
        },
        "id": "uKhJsn3_ABOy",
        "outputId": "1ab4ac7a-0681-44b2-b81c-84c4fb084713"
      },
      "source": [
        "print(emp_1.__dict__)"
      ],
      "execution_count": 20,
      "outputs": [
        {
          "output_type": "stream",
          "text": [
            "{'name': 'Seyido2', 'last': 'ahmedo2', 'age': '42', 'pay': 54.6}\n"
          ],
          "name": "stdout"
        }
      ]
    },
    {
      "cell_type": "code",
      "metadata": {
        "colab": {
          "base_uri": "https://localhost:8080/"
        },
        "id": "g45brouaABQu",
        "outputId": "e33323d6-ca6b-4145-fadd-d64f6324db71"
      },
      "source": [
        "print(Employee.__dict__)"
      ],
      "execution_count": 21,
      "outputs": [
        {
          "output_type": "stream",
          "text": [
            "{'__module__': '__main__', 'raise_percent': 1.05, '__init__': <function Employee.__init__ at 0x7ff510493b90>, 'apply_raise': <function Employee.apply_raise at 0x7ff510493e60>, '__dict__': <attribute '__dict__' of 'Employee' objects>, '__weakref__': <attribute '__weakref__' of 'Employee' objects>, '__doc__': None}\n"
          ],
          "name": "stdout"
        }
      ]
    },
    {
      "cell_type": "code",
      "metadata": {
        "colab": {
          "base_uri": "https://localhost:8080/"
        },
        "id": "XfjnIxEkABTo",
        "outputId": "ec1b66ac-0fce-44ca-ccfa-39765140a460"
      },
      "source": [
        "emp_1.experience = 10 \n",
        "print(emp_1.__dict__)"
      ],
      "execution_count": 22,
      "outputs": [
        {
          "output_type": "stream",
          "text": [
            "{'name': 'Seyido2', 'last': 'ahmedo2', 'age': '42', 'pay': 54.6, 'experience': 10}\n"
          ],
          "name": "stdout"
        }
      ]
    },
    {
      "cell_type": "code",
      "metadata": {
        "colab": {
          "base_uri": "https://localhost:8080/"
        },
        "id": "Gf8zMfJLABWY",
        "outputId": "a8513505-d9ec-4515-f22c-a803829664f2"
      },
      "source": [
        "print(emp_1.raise_percent)\n",
        "print(emp_2.raise_percent)\n",
        "print(Employee.raise_percent)"
      ],
      "execution_count": 23,
      "outputs": [
        {
          "output_type": "stream",
          "text": [
            "1.05\n",
            "1.05\n",
            "1.05\n"
          ],
          "name": "stdout"
        }
      ]
    },
    {
      "cell_type": "code",
      "metadata": {
        "id": "aD1PIAVKLoFy"
      },
      "source": [
        "Employee.raise_percent = 1.06"
      ],
      "execution_count": 24,
      "outputs": []
    },
    {
      "cell_type": "markdown",
      "metadata": {
        "id": "YnLBbsBmCmpH"
      },
      "source": [
        "***. Class variable'ı Class üzerinde güncellemek hepsinden günceller.***"
      ]
    },
    {
      "cell_type": "code",
      "metadata": {
        "id": "PBxH0kJHLoIN",
        "colab": {
          "base_uri": "https://localhost:8080/"
        },
        "outputId": "1e5df621-8d84-4090-9d00-df595a6d66df"
      },
      "source": [
        "print(emp_1.raise_percent)\n",
        "print(emp_2.raise_percent)\n",
        "print(Employee.raise_percent)"
      ],
      "execution_count": 25,
      "outputs": [
        {
          "output_type": "stream",
          "text": [
            "1.06\n",
            "1.06\n",
            "1.06\n"
          ],
          "name": "stdout"
        }
      ]
    },
    {
      "cell_type": "code",
      "metadata": {
        "id": "XHXo_I80LoKm"
      },
      "source": [
        "# bu şekilde yaparsak yeni bir attribute oluşturur!!!!!\n",
        "emp_1.raise_percent = 1.07"
      ],
      "execution_count": 26,
      "outputs": []
    },
    {
      "cell_type": "code",
      "metadata": {
        "id": "_t1KHIGPLoNc",
        "colab": {
          "base_uri": "https://localhost:8080/"
        },
        "outputId": "666e1109-5931-4b39-e0d5-f8e5ac7791d3"
      },
      "source": [
        "print(emp_1.__dict__)"
      ],
      "execution_count": 27,
      "outputs": [
        {
          "output_type": "stream",
          "text": [
            "{'name': 'Seyido2', 'last': 'ahmedo2', 'age': '42', 'pay': 54.6, 'experience': 10, 'raise_percent': 1.07}\n"
          ],
          "name": "stdout"
        }
      ]
    },
    {
      "cell_type": "code",
      "metadata": {
        "id": "GR74vvYdLoQV",
        "colab": {
          "base_uri": "https://localhost:8080/"
        },
        "outputId": "c544fea5-db37-4f4a-b294-1a66ef64d363"
      },
      "source": [
        "print(emp_2.__dict__)"
      ],
      "execution_count": 28,
      "outputs": [
        {
          "output_type": "stream",
          "text": [
            "{'name': 'Seyido3', 'last': 'ahmedo3', 'age': '43', 'pay': 53}\n"
          ],
          "name": "stdout"
        }
      ]
    },
    {
      "cell_type": "code",
      "metadata": {
        "id": "0bdGbWenLoS2",
        "colab": {
          "base_uri": "https://localhost:8080/"
        },
        "outputId": "24e4bd66-060d-411c-d862-15206e6e5261"
      },
      "source": [
        "print(emp_1.raise_percent)\n",
        "print(emp_2.raise_percent)\n",
        "print(Employee.raise_percent)"
      ],
      "execution_count": 29,
      "outputs": [
        {
          "output_type": "stream",
          "text": [
            "1.07\n",
            "1.06\n",
            "1.06\n"
          ],
          "name": "stdout"
        }
      ]
    },
    {
      "cell_type": "markdown",
      "metadata": {
        "id": "BmtvS9jNDGEY"
      },
      "source": [
        "#Kaç tane çalışan olduğunu Class Variable olarak tutmak \n",
        "\n",
        ". Her yeni çalışan geldiğinde toplam çalışanı 1 arttırmak istiyoruz."
      ]
    },
    {
      "cell_type": "code",
      "metadata": {
        "id": "8_mJxmQALoVa"
      },
      "source": [
        "class Employee:\n",
        "\n",
        "    raise_percent = 1.05 \n",
        "    num_emp = 0 \n",
        "\n",
        "    def __init__(self,name,last,age,pay):\n",
        "\n",
        "        self.name = name \n",
        "        self.last = last \n",
        "        self.age = age \n",
        "        self.pay = pay \n",
        "        Employee.num_emp += 1 \n",
        "    \n",
        "    def apply_raise(self):\n",
        "        self.pay = self.pay * self.raise_percent \n"
      ],
      "execution_count": 31,
      "outputs": []
    },
    {
      "cell_type": "code",
      "metadata": {
        "id": "E9oMp01ELoYX",
        "colab": {
          "base_uri": "https://localhost:8080/"
        },
        "outputId": "dc69ea72-c748-4e8d-edfa-24af6d43ce11"
      },
      "source": [
        "Employee.num_emp"
      ],
      "execution_count": 32,
      "outputs": [
        {
          "output_type": "execute_result",
          "data": {
            "text/plain": [
              "0"
            ]
          },
          "metadata": {
            "tags": []
          },
          "execution_count": 32
        }
      ]
    },
    {
      "cell_type": "code",
      "metadata": {
        "colab": {
          "base_uri": "https://localhost:8080/"
        },
        "id": "ZhXkjkDdDo0s",
        "outputId": "fb0b6dae-37cd-4e02-9037-6dc8f0a73d2b"
      },
      "source": [
        "emp_1 = Employee(\"Seyido2\", \"ahmedo2\", \"42\", 520)\n",
        "Employee.num_emp"
      ],
      "execution_count": 33,
      "outputs": [
        {
          "output_type": "execute_result",
          "data": {
            "text/plain": [
              "1"
            ]
          },
          "metadata": {
            "tags": []
          },
          "execution_count": 33
        }
      ]
    },
    {
      "cell_type": "code",
      "metadata": {
        "colab": {
          "base_uri": "https://localhost:8080/"
        },
        "id": "nE_fCRhwDo3t",
        "outputId": "088258ab-39f4-44b9-8307-46efc95e189d"
      },
      "source": [
        "emp_1.num_emp"
      ],
      "execution_count": 34,
      "outputs": [
        {
          "output_type": "execute_result",
          "data": {
            "text/plain": [
              "1"
            ]
          },
          "metadata": {
            "tags": []
          },
          "execution_count": 34
        }
      ]
    },
    {
      "cell_type": "code",
      "metadata": {
        "colab": {
          "base_uri": "https://localhost:8080/"
        },
        "id": "vb1mt3awDo6q",
        "outputId": "0e340171-72d5-4d11-a826-1dc2d68d6a22"
      },
      "source": [
        "emp_2 = Employee(\"Seyido23\", \"ahmedo2\", \"42\", 520)\n",
        "emp_3 = Employee(\"Seyido24\", \"ahmedo2\", \"42\", 520)\n",
        "print(Employee.num_emp)\n",
        "print(emp_2.num_em p)"
      ],
      "execution_count": 35,
      "outputs": [
        {
          "output_type": "stream",
          "text": [
            "3\n",
            "3\n"
          ],
          "name": "stdout"
        }
      ]
    },
    {
      "cell_type": "markdown",
      "metadata": {
        "id": "NdJ-qetWNN8C"
      },
      "source": [
        "#CLASS METHOD\n",
        "\n",
        "***.*** @classmethod decorator methodu ilk argüman olarak instance almak yerine class'ı alacak şekilde güncellenir."
      ]
    },
    {
      "cell_type": "code",
      "metadata": {
        "id": "iKkVDdqXNLaF"
      },
      "source": [
        "class Employee:\n",
        "\n",
        "    raise_percent = 1.05\n",
        "    num_emp = 0\n",
        "\n",
        "    def __init__(self,name,last,age,pay):\n",
        "        self.name = name\n",
        "        self.last = last\n",
        "        self.age = age \n",
        "        self.pay = pay \n",
        "        Employee.num_emp += 1\n",
        "    \n",
        "    def apply_raise(self):\n",
        "        self.pay = self.pay * self.raise_percent \n",
        "\n",
        "    @classmethod \n",
        "    def set_raise(cls, amount):\n",
        "        cls.raise_percent = amount \n"
      ],
      "execution_count": 37,
      "outputs": []
    },
    {
      "cell_type": "code",
      "metadata": {
        "id": "Cgnfl77yNLdK"
      },
      "source": [
        "emp_1 = Employee(\"kaan\",\"tangöze\", \"22\", 44000)\n",
        "emp_2 = Employee(\"kaan2\",\"tangöze2\", \"222\", 440002)"
      ],
      "execution_count": 38,
      "outputs": []
    },
    {
      "cell_type": "code",
      "metadata": {
        "colab": {
          "base_uri": "https://localhost:8080/"
        },
        "id": "eSjFxZeBNLhP",
        "outputId": "929380f7-3ee2-4c8b-dd63-e7f4da19554c"
      },
      "source": [
        "Employee.set_raise(1.6)\n",
        "emp_1.raise_percent"
      ],
      "execution_count": 41,
      "outputs": [
        {
          "output_type": "execute_result",
          "data": {
            "text/plain": [
              "1.6"
            ]
          },
          "metadata": {
            "tags": []
          },
          "execution_count": 41
        }
      ]
    },
    {
      "cell_type": "code",
      "metadata": {
        "colab": {
          "base_uri": "https://localhost:8080/"
        },
        "id": "518TUfClNLj9",
        "outputId": "a74c9cfa-30d1-4adf-97ed-c58cac51e83d"
      },
      "source": [
        "emp_1.set_raise(2.3)\n",
        "emp_1.raise_percent"
      ],
      "execution_count": 42,
      "outputs": [
        {
          "output_type": "execute_result",
          "data": {
            "text/plain": [
              "2.3"
            ]
          },
          "metadata": {
            "tags": []
          },
          "execution_count": 42
        }
      ]
    },
    {
      "cell_type": "code",
      "metadata": {
        "colab": {
          "base_uri": "https://localhost:8080/"
        },
        "id": "E4uB_nwdNLnA",
        "outputId": "46f7a865-14b1-4e83-dacc-98b98de1df54"
      },
      "source": [
        "print(emp_1.raise_percent)\n",
        "print(emp_2.raise_percent)\n",
        "print(Employee.raise_percent)"
      ],
      "execution_count": 43,
      "outputs": [
        {
          "output_type": "stream",
          "text": [
            "2.3\n",
            "2.3\n",
            "2.3\n"
          ],
          "name": "stdout"
        }
      ]
    },
    {
      "cell_type": "markdown",
      "metadata": {
        "id": "SCQPYnuQOiHe"
      },
      "source": [
        ". String olarak input geldiğinde objenin bu şekilde oluşması için başka nasıl bir mekanizma kullanabilirim ? \n",
        "\n",
        "Her seferinde string'i parse etmek yerine bunu bir method olarak yazabiliriz. "
      ]
    },
    {
      "cell_type": "code",
      "metadata": {
        "id": "mvHmqWo1NLpt"
      },
      "source": [
        "class Employee:\n",
        "\n",
        "    raise_percent = 1.05\n",
        "    num_emp = 0\n",
        "\n",
        "    def __init__(self,name,last,age,pay):\n",
        "        self.name = name\n",
        "        self.last = last\n",
        "        self.age = age \n",
        "        self.pay = pay \n",
        "        Employee.num_emp += 1\n",
        "    \n",
        "    def apply_raise(self):\n",
        "        self.pay = self.pay * self.raise_percent \n",
        "\n",
        "    @classmethod \n",
        "    def set_raise(cls, amount):\n",
        "        cls.raise_percent = amount \n",
        "\n",
        "    @classmethod\n",
        "    def from_string(cls, emp_str):\n",
        "        name, last, age, pay = emp_str.split(\"-\")\n",
        "        return cls(name, last, int(age), float(pay)) #yeni çalışan yaratacak ve döndürecek \n"
      ],
      "execution_count": 44,
      "outputs": []
    },
    {
      "cell_type": "code",
      "metadata": {
        "id": "c_PenEzoNLrc"
      },
      "source": [
        "emp_1_str = \"James-Hughes-32-5000\"\n",
        "emp_2_str = \"James2-Hughes2-322-50002\""
      ],
      "execution_count": 45,
      "outputs": []
    },
    {
      "cell_type": "code",
      "metadata": {
        "colab": {
          "base_uri": "https://localhost:8080/"
        },
        "id": "zjt2p3J0NLtt",
        "outputId": "d463f15a-c1e6-436f-c56a-92be11ce1196"
      },
      "source": [
        "emp_1 = Employee.from_string(emp_2_str)\n",
        "emp_1.pay"
      ],
      "execution_count": 48,
      "outputs": [
        {
          "output_type": "execute_result",
          "data": {
            "text/plain": [
              "50002.0"
            ]
          },
          "metadata": {
            "tags": []
          },
          "execution_count": 48
        }
      ]
    },
    {
      "cell_type": "markdown",
      "metadata": {
        "id": "UflIvwcsPm13"
      },
      "source": [
        "#Static Method \n",
        "\n",
        ". Regular method'lar(ilk gördüklerimiz), class'ın instance'ını(oluşturulan objeyi), methodlara otomatik olarak argüman olarak veriyordu(self kullanarak). Class methodarı class'ı otomatik olarak argüman olarak veriyor. Static methodlar otomatik olarak bir şey vermeyen methodlar olacak.\n",
        "\n",
        ". Instance veya class'a methodun içerisinde erişim olmuyorsa static olarak tanımlamak daha iyi olabilir."
      ]
    },
    {
      "cell_type": "code",
      "metadata": {
        "id": "FAziTSDNNLvg"
      },
      "source": [
        "class Employee:\n",
        "\n",
        "    raise_percent = 1.05\n",
        "    num_emp = 0\n",
        "\n",
        "    def __init__(self,name,last,age,pay):\n",
        "        self.name = name\n",
        "        self.last = last\n",
        "        self.age = age \n",
        "        self.pay = pay \n",
        "        Employee.num_emp += 1\n",
        "    \n",
        "    def apply_raise(self):\n",
        "        self.pay = self.pay * self.raise_percent \n",
        "\n",
        "    @classmethod \n",
        "    def set_raise(cls, amount):\n",
        "        cls.raise_percent = amount \n",
        "\n",
        "    @classmethod\n",
        "    def from_string(cls, emp_str):\n",
        "        name, last, age, pay = emp_str.split(\"-\")\n",
        "        return cls(name, last, int(age), float(pay)) #yeni çalışan yaratacak ve döndürecek \n",
        "\n",
        "    @staticmethod\n",
        "    def holiday_print(day):\n",
        "        if day == \"weekend\":\n",
        "            print(\"this is an off day\")\n",
        "        else:\n",
        "            print(\"this is not an off day\")"
      ],
      "execution_count": 49,
      "outputs": []
    },
    {
      "cell_type": "code",
      "metadata": {
        "colab": {
          "base_uri": "https://localhost:8080/"
        },
        "id": "YD2mi7hwNLyt",
        "outputId": "15689ea5-cc25-4f86-a583-6208121841c5"
      },
      "source": [
        "Employee.holiday_print(\"weekend\")"
      ],
      "execution_count": 50,
      "outputs": [
        {
          "output_type": "stream",
          "text": [
            "this is an off day\n"
          ],
          "name": "stdout"
        }
      ]
    },
    {
      "cell_type": "code",
      "metadata": {
        "id": "woE0MaP8NL1i"
      },
      "source": [
        "emp1 = Employee(\"james\", \"hughes\", \"111\", 456)"
      ],
      "execution_count": 51,
      "outputs": []
    },
    {
      "cell_type": "code",
      "metadata": {
        "colab": {
          "base_uri": "https://localhost:8080/"
        },
        "id": "Xj8Zg9DeNL5H",
        "outputId": "ed01b6ad-a2db-4501-d85d-fcfc339f4816"
      },
      "source": [
        "emp1.holiday_print(\"working day\") "
      ],
      "execution_count": 52,
      "outputs": [
        {
          "output_type": "stream",
          "text": [
            "this is not an off day\n"
          ],
          "name": "stdout"
        }
      ]
    },
    {
      "cell_type": "markdown",
      "metadata": {
        "id": "d17Wa-vCOZ6D"
      },
      "source": [
        "#INHERITANCE\n",
        "\n",
        ". Inheritance belirttiğimiz başka class'lardaki method ve attribute'lara erişmemizi sağlar. \n",
        "\n",
        ". Diyelim ki farklı tipte çalışanlar yaratmak istiyoruz. IT ve HR çalışanları olsun."
      ]
    },
    {
      "cell_type": "code",
      "metadata": {
        "id": "_SW-IOovNL8v"
      },
      "source": [
        "class Employee:\n",
        "\n",
        "    raise_percent = 1.05\n",
        "    num_emp = 0\n",
        "\n",
        "    def __init__(self,name,last,age,pay):\n",
        "        self.name = name\n",
        "        self.last = last\n",
        "        self.age = age \n",
        "        self.pay = pay \n",
        "        Employee.num_emp += 1\n",
        "    \n",
        "    def apply_raise(self):\n",
        "        self.pay = self.pay * self.raise_percent "
      ],
      "execution_count": 7,
      "outputs": []
    },
    {
      "cell_type": "markdown",
      "metadata": {
        "id": "JZS1Ba3HQ_LF"
      },
      "source": [
        ". Hangi class'tan inherit etmek istediğimizi parantezin içine yazıyoruz.\n",
        "\n",
        ". Inherit ettiğimiz class'a ***parent/super class***, inherit edene de child/subclass denir."
      ]
    },
    {
      "cell_type": "code",
      "metadata": {
        "id": "s2jgysReNL_W"
      },
      "source": [
        "emp_1 = Employee(\"kaan\",\"tangöze\", \"22\", 44000)\n",
        "emp_2 = Employee(\"kaan2\",\"tangöze2\", \"222\", 44000)"
      ],
      "execution_count": 8,
      "outputs": []
    },
    {
      "cell_type": "code",
      "metadata": {
        "id": "qbK9ONIwNMBq"
      },
      "source": [
        "class IT(Employee):\n",
        "  pass"
      ],
      "execution_count": 9,
      "outputs": []
    },
    {
      "cell_type": "markdown",
      "metadata": {
        "id": "hYGurWwFRZV6"
      },
      "source": [
        ". IT'nin içerisinde bulamazsa aradığını, inherit ettiği yere gidip bakacak. IT'nin içerisinde __init__ methodu yok, bu yüzden gidip Employee class'ına bakacak."
      ]
    },
    {
      "cell_type": "code",
      "metadata": {
        "id": "A7efWH0ENMEn"
      },
      "source": [
        "it_1 = IT(\"JAMAZ\", \"HUGHZ\", \"55\", 50000)"
      ],
      "execution_count": 11,
      "outputs": []
    },
    {
      "cell_type": "code",
      "metadata": {
        "colab": {
          "base_uri": "https://localhost:8080/"
        },
        "id": "2wwYCWOBNMLq",
        "outputId": "3f006ba5-6a96-4dc8-c7dc-5cb386c98f87"
      },
      "source": [
        "it_1.__dict__"
      ],
      "execution_count": 12,
      "outputs": [
        {
          "output_type": "execute_result",
          "data": {
            "text/plain": [
              "{'age': '55', 'last': 'HUGHZ', 'name': 'JAMAZ', 'pay': 50000}"
            ]
          },
          "metadata": {
            "tags": []
          },
          "execution_count": 12
        }
      ]
    },
    {
      "cell_type": "code",
      "metadata": {
        "colab": {
          "base_uri": "https://localhost:8080/",
          "height": 35
        },
        "id": "xLpzkbt6NMO2",
        "outputId": "0c771c5c-5aca-4d64-dda0-040b129a0705"
      },
      "source": [
        "it_1.name"
      ],
      "execution_count": 13,
      "outputs": [
        {
          "output_type": "execute_result",
          "data": {
            "application/vnd.google.colaboratory.intrinsic+json": {
              "type": "string"
            },
            "text/plain": [
              "'JAMAZ'"
            ]
          },
          "metadata": {
            "tags": []
          },
          "execution_count": 13
        }
      ]
    },
    {
      "cell_type": "code",
      "metadata": {
        "colab": {
          "base_uri": "https://localhost:8080/"
        },
        "id": "0KwD0r_jRwPp",
        "outputId": "ee623605-971f-4cfe-b3cf-b87140fe31f6"
      },
      "source": [
        "help(IT)"
      ],
      "execution_count": 14,
      "outputs": [
        {
          "output_type": "stream",
          "text": [
            "Help on class IT in module __main__:\n",
            "\n",
            "class IT(Employee)\n",
            " |  IT(name, last, age, pay)\n",
            " |  \n",
            " |  Method resolution order:\n",
            " |      IT\n",
            " |      Employee\n",
            " |      builtins.object\n",
            " |  \n",
            " |  Methods inherited from Employee:\n",
            " |  \n",
            " |  __init__(self, name, last, age, pay)\n",
            " |      Initialize self.  See help(type(self)) for accurate signature.\n",
            " |  \n",
            " |  apply_raise(self)\n",
            " |  \n",
            " |  ----------------------------------------------------------------------\n",
            " |  Data descriptors inherited from Employee:\n",
            " |  \n",
            " |  __dict__\n",
            " |      dictionary for instance variables (if defined)\n",
            " |  \n",
            " |  __weakref__\n",
            " |      list of weak references to the object (if defined)\n",
            " |  \n",
            " |  ----------------------------------------------------------------------\n",
            " |  Data and other attributes inherited from Employee:\n",
            " |  \n",
            " |  num_emp = 4\n",
            " |  \n",
            " |  raise_percent = 1.05\n",
            "\n"
          ],
          "name": "stdout"
        }
      ]
    },
    {
      "cell_type": "code",
      "metadata": {
        "colab": {
          "base_uri": "https://localhost:8080/"
        },
        "id": "D2DzsZviRwSu",
        "outputId": "11bcbd3b-c7e7-4324-93b0-d75a9e392ab9"
      },
      "source": [
        "it_1.pay"
      ],
      "execution_count": 15,
      "outputs": [
        {
          "output_type": "execute_result",
          "data": {
            "text/plain": [
              "50000"
            ]
          },
          "metadata": {
            "tags": []
          },
          "execution_count": 15
        }
      ]
    },
    {
      "cell_type": "code",
      "metadata": {
        "id": "fsdwvej0RwVU"
      },
      "source": [
        "it_1.apply_raise()"
      ],
      "execution_count": 17,
      "outputs": []
    },
    {
      "cell_type": "code",
      "metadata": {
        "colab": {
          "base_uri": "https://localhost:8080/"
        },
        "id": "INZ78FekRwX1",
        "outputId": "e03823e9-de45-40db-e41f-4f1dd6b6ea45"
      },
      "source": [
        "it_1.pay"
      ],
      "execution_count": 18,
      "outputs": [
        {
          "output_type": "execute_result",
          "data": {
            "text/plain": [
              "55125.0"
            ]
          },
          "metadata": {
            "tags": []
          },
          "execution_count": 18
        }
      ]
    },
    {
      "cell_type": "markdown",
      "metadata": {
        "id": "u2nsvk-RSIrc"
      },
      "source": [
        "...diyelim li IT'dekilerin yüzdelik maaş değişimini farklı bir değer olarak belirlemek istiyorum."
      ]
    },
    {
      "cell_type": "code",
      "metadata": {
        "id": "_wtrs01YRwaF"
      },
      "source": [
        "class IT(Employee):\n",
        "  raise_percent = 1.2 "
      ],
      "execution_count": 19,
      "outputs": []
    },
    {
      "cell_type": "code",
      "metadata": {
        "id": "0fUuYc4YRwc-"
      },
      "source": [
        "it_1 = IT(\"JAMAZ\", \"HUGHZ\", \"55\", 50000)"
      ],
      "execution_count": 20,
      "outputs": []
    },
    {
      "cell_type": "code",
      "metadata": {
        "colab": {
          "base_uri": "https://localhost:8080/"
        },
        "id": "KN_MqI65Rwfz",
        "outputId": "b5bd5884-6bb1-4f12-b156-049188e6f80f"
      },
      "source": [
        "it_1.pay"
      ],
      "execution_count": 21,
      "outputs": [
        {
          "output_type": "execute_result",
          "data": {
            "text/plain": [
              "50000"
            ]
          },
          "metadata": {
            "tags": []
          },
          "execution_count": 21
        }
      ]
    },
    {
      "cell_type": "markdown",
      "metadata": {
        "id": "z3w0EGeeSYpO"
      },
      "source": [
        ". Employee'nin raise_percent attribute'unu kullanmak yerine kendisi içinde belirttiğimizi kullanıyor. Kendi içerisinde bulabilirse kullanıyor, bulamazsa inherit ettiği yere bakıyor."
      ]
    },
    {
      "cell_type": "code",
      "metadata": {
        "colab": {
          "base_uri": "https://localhost:8080/"
        },
        "id": "3XzoVr3jRwiH",
        "outputId": "aa4ee260-a23e-4041-c895-e4f6a3f79025"
      },
      "source": [
        "it_1.raise_percent"
      ],
      "execution_count": 22,
      "outputs": [
        {
          "output_type": "execute_result",
          "data": {
            "text/plain": [
              "1.2"
            ]
          },
          "metadata": {
            "tags": []
          },
          "execution_count": 22
        }
      ]
    },
    {
      "cell_type": "code",
      "metadata": {
        "id": "y0nkPOkKRwmq"
      },
      "source": [
        "it_1.apply_raise()"
      ],
      "execution_count": 23,
      "outputs": []
    },
    {
      "cell_type": "code",
      "metadata": {
        "colab": {
          "base_uri": "https://localhost:8080/"
        },
        "id": "S033Ek9HRwo1",
        "outputId": "2cb8d5d9-1e8a-4bd9-b8ed-bd9964fa046a"
      },
      "source": [
        "it_1.pay"
      ],
      "execution_count": 24,
      "outputs": [
        {
          "output_type": "execute_result",
          "data": {
            "text/plain": [
              "60000.0"
            ]
          },
          "metadata": {
            "tags": []
          },
          "execution_count": 24
        }
      ]
    },
    {
      "cell_type": "markdown",
      "metadata": {
        "id": "S37xLFoUS0IL"
      },
      "source": [
        ". IT'nin raise_percent'ini değiştirmek, inherit ettiği yerinkini değiştirmez."
      ]
    },
    {
      "cell_type": "code",
      "metadata": {
        "colab": {
          "base_uri": "https://localhost:8080/"
        },
        "id": "RIaNL8_sRwrB",
        "outputId": "dcfb2799-5412-4d0d-f20e-b7a259fa6fb7"
      },
      "source": [
        "Employee.raise_percent"
      ],
      "execution_count": 25,
      "outputs": [
        {
          "output_type": "execute_result",
          "data": {
            "text/plain": [
              "1.05"
            ]
          },
          "metadata": {
            "tags": []
          },
          "execution_count": 25
        }
      ]
    },
    {
      "cell_type": "markdown",
      "metadata": {
        "id": "6owq8tHFS80h"
      },
      "source": [
        ". ***subclass***'ta yaptığımız değişiklik parent class'ı etkilemez.\n",
        "\n",
        ". diyelim ki IT'cilere yeni bir özellik olarak hangi programlama dili bildiklerini de eklemek istiyoruz.  "
      ]
    },
    {
      "cell_type": "code",
      "metadata": {
        "id": "PbvYofJnRws5"
      },
      "source": [
        "class IT(Employee):\n",
        "    raise_percent = 1.05\n",
        "\n",
        "    def __init__(self, name, last, age, pay, lang):\n",
        "        self.name = name\n",
        "        self.last = last\n",
        "        self.age = age \n",
        "        self.pay = pay \n",
        "        self.lang = lang"
      ],
      "execution_count": 26,
      "outputs": []
    },
    {
      "cell_type": "code",
      "metadata": {
        "id": "vcBVsoytRwvS"
      },
      "source": [
        "it_1 = IT(\"JAMÖZ\", \"HEGH\", \"44\", 50000, \"Python\")"
      ],
      "execution_count": 28,
      "outputs": []
    },
    {
      "cell_type": "code",
      "metadata": {
        "colab": {
          "base_uri": "https://localhost:8080/",
          "height": 35
        },
        "id": "hIBmu7JFRwxs",
        "outputId": "a997710a-4d43-4aaf-e440-5b8665f4946d"
      },
      "source": [
        "it_1.lang"
      ],
      "execution_count": 29,
      "outputs": [
        {
          "output_type": "execute_result",
          "data": {
            "application/vnd.google.colaboratory.intrinsic+json": {
              "type": "string"
            },
            "text/plain": [
              "'Python'"
            ]
          },
          "metadata": {
            "tags": []
          },
          "execution_count": 29
        }
      ]
    },
    {
      "cell_type": "markdown",
      "metadata": {
        "id": "00V8nst3TnWn"
      },
      "source": [
        ". Ama bunun yerine şöyle de yapabilirdi."
      ]
    },
    {
      "cell_type": "code",
      "metadata": {
        "id": "yxR1SghpRw0P"
      },
      "source": [
        "class IT(Employee):\n",
        "    raise_percent = 1.2\n",
        "\n",
        "    def __init__(self, name, last, age, pay, lang):\n",
        "        super().__init__(name, last, age, pay) \n",
        "        self.lang = lang"
      ],
      "execution_count": 30,
      "outputs": []
    },
    {
      "cell_type": "markdown",
      "metadata": {
        "id": "n0rXpUG6T3Kk"
      },
      "source": [
        ". Böylece aynı kodu tekrar tekrar yazmamış olduk. Zaten superclass'ın init method'u yapıyorsa yeniden yazmaya gerek yok."
      ]
    },
    {
      "cell_type": "code",
      "metadata": {
        "id": "riBzrGU6Rw2q"
      },
      "source": [
        "it_1 = IT(\"JAMÖZ\", \"HEGH\", \"44\", 50000, \"Python\")"
      ],
      "execution_count": 31,
      "outputs": []
    },
    {
      "cell_type": "code",
      "metadata": {
        "colab": {
          "base_uri": "https://localhost:8080/",
          "height": 35
        },
        "id": "LHLC4LgRRw5F",
        "outputId": "7fc0405a-f15e-4698-85f6-363ef6869bd0"
      },
      "source": [
        "it_1.name"
      ],
      "execution_count": 32,
      "outputs": [
        {
          "output_type": "execute_result",
          "data": {
            "application/vnd.google.colaboratory.intrinsic+json": {
              "type": "string"
            },
            "text/plain": [
              "'JAMÖZ'"
            ]
          },
          "metadata": {
            "tags": []
          },
          "execution_count": 32
        }
      ]
    },
    {
      "cell_type": "code",
      "metadata": {
        "colab": {
          "base_uri": "https://localhost:8080/",
          "height": 35
        },
        "id": "rDxE0GqkRw7f",
        "outputId": "3e00eaac-b315-485e-8554-79a5fae5c2ea"
      },
      "source": [
        "it_1.lang"
      ],
      "execution_count": 33,
      "outputs": [
        {
          "output_type": "execute_result",
          "data": {
            "application/vnd.google.colaboratory.intrinsic+json": {
              "type": "string"
            },
            "text/plain": [
              "'Python'"
            ]
          },
          "metadata": {
            "tags": []
          },
          "execution_count": 33
        }
      ]
    },
    {
      "cell_type": "code",
      "metadata": {
        "id": "UcWr0cdLRw9_"
      },
      "source": [
        "class IK(Employee):\n",
        "    raise_percent = 1.3\n",
        "\n",
        "    def __init__(self, name, last, age, pay, experience):\n",
        "        super().__init__(name, last, age, pay) \n",
        "        self.experience = experience\n",
        "    \n",
        "    def print_experience(self):\n",
        "      print(f\"this employee has {self.experience} years of experience\" )"
      ],
      "execution_count": 34,
      "outputs": []
    },
    {
      "cell_type": "code",
      "metadata": {
        "id": "msuY8HOfUHvk"
      },
      "source": [
        "ik_1 = IK(\"ık'cı\", \"king\", \"77\", 100000, 50)"
      ],
      "execution_count": 36,
      "outputs": []
    },
    {
      "cell_type": "code",
      "metadata": {
        "colab": {
          "base_uri": "https://localhost:8080/"
        },
        "id": "eGwc5OlTUHyM",
        "outputId": "7e6afdba-5fbb-4bc9-8ca5-925e08994423"
      },
      "source": [
        "ik_1.print_experience()"
      ],
      "execution_count": 38,
      "outputs": [
        {
          "output_type": "stream",
          "text": [
            "this employee has 50 years of experience\n"
          ],
          "name": "stdout"
        }
      ]
    },
    {
      "cell_type": "code",
      "metadata": {
        "colab": {
          "base_uri": "https://localhost:8080/"
        },
        "id": "2q0pUbhiUH0o",
        "outputId": "9f683e1e-450a-4a52-c2ee-a8ce26417e2c"
      },
      "source": [
        "isinstance(ik_1, IK)"
      ],
      "execution_count": 39,
      "outputs": [
        {
          "output_type": "execute_result",
          "data": {
            "text/plain": [
              "True"
            ]
          },
          "metadata": {
            "tags": []
          },
          "execution_count": 39
        }
      ]
    },
    {
      "cell_type": "code",
      "metadata": {
        "colab": {
          "base_uri": "https://localhost:8080/"
        },
        "id": "_PUwkwiUUH3Y",
        "outputId": "8368e8f5-d961-4456-e401-32d49971f7f9"
      },
      "source": [
        "isinstance(ik_1, Employee)"
      ],
      "execution_count": 40,
      "outputs": [
        {
          "output_type": "execute_result",
          "data": {
            "text/plain": [
              "True"
            ]
          },
          "metadata": {
            "tags": []
          },
          "execution_count": 40
        }
      ]
    },
    {
      "cell_type": "code",
      "metadata": {
        "colab": {
          "base_uri": "https://localhost:8080/"
        },
        "id": "9e_Uw6KIUH7r",
        "outputId": "1de3f636-7d8e-4c42-8519-8d3f4df0622d"
      },
      "source": [
        "issubclass(IT, Employee)"
      ],
      "execution_count": 45,
      "outputs": [
        {
          "output_type": "execute_result",
          "data": {
            "text/plain": [
              "True"
            ]
          },
          "metadata": {
            "tags": []
          },
          "execution_count": 45
        }
      ]
    },
    {
      "cell_type": "code",
      "metadata": {
        "colab": {
          "base_uri": "https://localhost:8080/"
        },
        "id": "9UysoGkRUH-H",
        "outputId": "4b37d29f-9d72-411c-ded4-13d27113ea17"
      },
      "source": [
        "issubclass(IK, Employee)\n"
      ],
      "execution_count": 46,
      "outputs": [
        {
          "output_type": "execute_result",
          "data": {
            "text/plain": [
              "True"
            ]
          },
          "metadata": {
            "tags": []
          },
          "execution_count": 46
        }
      ]
    },
    {
      "cell_type": "code",
      "metadata": {
        "colab": {
          "base_uri": "https://localhost:8080/"
        },
        "id": "SqudtqITUIAi",
        "outputId": "83e8875c-c4da-4363-958d-21a82602eb53"
      },
      "source": [
        "issubclass(IT,IK)"
      ],
      "execution_count": 47,
      "outputs": [
        {
          "output_type": "execute_result",
          "data": {
            "text/plain": [
              "False"
            ]
          },
          "metadata": {
            "tags": []
          },
          "execution_count": 47
        }
      ]
    },
    {
      "cell_type": "markdown",
      "metadata": {
        "id": "BBcFMmLmVHRd"
      },
      "source": [
        "#MAGIC METHOD\n",
        ". Magic Method'ları kullanarak bazı built-in davranışları değiştirebiliriz. Magic methodlar \"__\" ile çevrilidir. Bunlara dunder method'da denir."
      ]
    },
    {
      "cell_type": "code",
      "metadata": {
        "id": "54-g98BeUIDo"
      },
      "source": [
        "class Employee:\n",
        "\n",
        "    raise_percent = 1.05\n",
        "    num_emp = 0\n",
        "\n",
        "    def __init__(self,name,last,age,pay):\n",
        "        self.name = name\n",
        "        self.last = last\n",
        "        self.age = age \n",
        "        self.pay = pay \n",
        "        Employee.num_emp += 1\n",
        "    \n",
        "    def apply_raise(self):\n",
        "        self.pay = self.pay * self.raise_percent "
      ],
      "execution_count": 48,
      "outputs": []
    },
    {
      "cell_type": "code",
      "metadata": {
        "id": "eSXHREwGRxAL"
      },
      "source": [
        "it_1 = Employee(\"JAMÖZ\", \"HEGH\", \"44\", 50000)\n",
        "it_2 = Employee(\"JAMÖZ2\", \"HEGH2\", \"442\", 50000)"
      ],
      "execution_count": 50,
      "outputs": []
    },
    {
      "cell_type": "markdown",
      "metadata": {
        "id": "IboEdxngWsTH"
      },
      "source": [
        "# __ str __()\n",
        ". Objenin okunabilir bir tanımını oluştururuz."
      ]
    },
    {
      "cell_type": "code",
      "metadata": {
        "id": "cGcwPNRgRxDg"
      },
      "source": [
        "class Employee:\n",
        "\n",
        "    raise_percent = 1.05\n",
        "    num_emp = 0\n",
        "\n",
        "    def __init__(self,name,last,age,pay):\n",
        "        self.name = name\n",
        "        self.last = last\n",
        "        self.age = age \n",
        "        self.pay = pay \n",
        "        Employee.num_emp += 1\n",
        "    \n",
        "    def apply_raise(self):\n",
        "        self.pay = self.pay * self.raise_percent \n",
        "\n",
        "    def __str__(self):\n",
        "        return f\"Employee(name={self.name}, last={self.last}, age={self.age}, pay={self.pay})\""
      ],
      "execution_count": 63,
      "outputs": []
    },
    {
      "cell_type": "code",
      "metadata": {
        "id": "GRBGh4J6NMQz"
      },
      "source": [
        "emp_1 = Employee(\"JAMÖZ\", \"HEGH\", \"44\", 50000)"
      ],
      "execution_count": 64,
      "outputs": []
    },
    {
      "cell_type": "code",
      "metadata": {
        "colab": {
          "base_uri": "https://localhost:8080/"
        },
        "id": "3y9lX6e-NMTg",
        "outputId": "0e4f294e-a4e9-4242-d84f-373960957f1a"
      },
      "source": [
        "print(emp_1)"
      ],
      "execution_count": 65,
      "outputs": [
        {
          "output_type": "stream",
          "text": [
            "Employee(name=JAMÖZ, last=HEGH, age=44, pay=50000)\n"
          ],
          "name": "stdout"
        }
      ]
    },
    {
      "cell_type": "markdown",
      "metadata": {
        "id": "vEKSXQvjX5YJ"
      },
      "source": [
        "# __ add __()"
      ]
    },
    {
      "cell_type": "code",
      "metadata": {
        "id": "FuahrXaqNMVh"
      },
      "source": [
        "class Employee:\n",
        "\n",
        "    raise_percent = 1.05\n",
        "    num_emp = 0\n",
        "\n",
        "    def __init__(self,name,last,age,pay):\n",
        "        self.name = name\n",
        "        self.last = last\n",
        "        self.age = age \n",
        "        self.pay = pay \n",
        "        Employee.num_emp += 1\n",
        "    \n",
        "    def apply_raise(self):\n",
        "        self.pay = self.pay * self.raise_percent \n",
        "\n",
        "    def __str__(self):\n",
        "        return f\"Employee(name={self.name}, last={self.last}, age={self.age}, pay={self.pay})\"\n",
        "\n",
        "    def __add__(self, other):\n",
        "        return self.pay + other.pay"
      ],
      "execution_count": 66,
      "outputs": []
    },
    {
      "cell_type": "code",
      "metadata": {
        "id": "t85dZmvfNMXj"
      },
      "source": [
        "emp_1 = Employee(\"JAMÖZ\", \"HEGH\", \"44\", 50000)\n",
        "emp_2 = Employee(\"JAMÖZ2\", \"HEGH2\", \"442\", 500002)\n"
      ],
      "execution_count": 67,
      "outputs": []
    },
    {
      "cell_type": "code",
      "metadata": {
        "colab": {
          "base_uri": "https://localhost:8080/"
        },
        "id": "yFIeh8WmNMZ0",
        "outputId": "bcd2b9d4-b7d5-440b-a2f0-c0d20b48e542"
      },
      "source": [
        "emp_1 + emp_2"
      ],
      "execution_count": 69,
      "outputs": [
        {
          "output_type": "execute_result",
          "data": {
            "text/plain": [
              "550002"
            ]
          },
          "metadata": {
            "tags": []
          },
          "execution_count": 69
        }
      ]
    },
    {
      "cell_type": "markdown",
      "metadata": {
        "id": "_rFvSIzPYm_m"
      },
      "source": [
        "# __ len __()"
      ]
    },
    {
      "cell_type": "code",
      "metadata": {
        "id": "I1x5PXJGYnLD"
      },
      "source": [
        "class Employee:\n",
        "\n",
        "    raise_percent = 1.05\n",
        "    num_emp = 0\n",
        "\n",
        "    def __init__(self,name,last,age,pay):\n",
        "        self.name = name\n",
        "        self.last = last\n",
        "        self.age = age \n",
        "        self.pay = pay \n",
        "        Employee.num_emp += 1\n",
        "    \n",
        "    def apply_raise(self):\n",
        "        self.pay = self.pay * self.raise_percent \n",
        "\n",
        "    def __str__(self):\n",
        "        return f\"Employee(name={self.name}, last={self.last}, age={self.age}, pay={self.pay})\"\n",
        "\n",
        "    def __add__(self, other):\n",
        "        return self.pay + other.pay\n",
        "\n",
        "    def __len__(self):\n",
        "        return len(self.name)"
      ],
      "execution_count": 74,
      "outputs": []
    },
    {
      "cell_type": "code",
      "metadata": {
        "id": "_zi1xGolYnNx"
      },
      "source": [
        "emp_1 = Employee(\"JAMÖZ\", \"HEGH\", \"44\", 50000)\n",
        "emp_2 = Employee(\"JAMÖZ2\", \"HEGH2\", \"442\", 500002)\n"
      ],
      "execution_count": 75,
      "outputs": []
    },
    {
      "cell_type": "code",
      "metadata": {
        "colab": {
          "base_uri": "https://localhost:8080/"
        },
        "id": "XSYgZaF8YnRY",
        "outputId": "3b78fdf1-b897-44a8-a4b5-84db07368864"
      },
      "source": [
        "len(emp_2)"
      ],
      "execution_count": 77,
      "outputs": [
        {
          "output_type": "execute_result",
          "data": {
            "text/plain": [
              "6"
            ]
          },
          "metadata": {
            "tags": []
          },
          "execution_count": 77
        }
      ]
    },
    {
      "cell_type": "code",
      "metadata": {
        "id": "1WFjmr0AYnUt"
      },
      "source": [
        ""
      ],
      "execution_count": null,
      "outputs": []
    },
    {
      "cell_type": "code",
      "metadata": {
        "id": "ywDxn-8rYnXN"
      },
      "source": [
        ""
      ],
      "execution_count": null,
      "outputs": []
    },
    {
      "cell_type": "code",
      "metadata": {
        "id": "dD5n6aBdYnaQ"
      },
      "source": [
        ""
      ],
      "execution_count": null,
      "outputs": []
    },
    {
      "cell_type": "code",
      "metadata": {
        "id": "BCNKmnRxYndM"
      },
      "source": [
        ""
      ],
      "execution_count": null,
      "outputs": []
    },
    {
      "cell_type": "code",
      "metadata": {
        "id": "uRuiMdHZYnf0"
      },
      "source": [
        ""
      ],
      "execution_count": null,
      "outputs": []
    },
    {
      "cell_type": "code",
      "metadata": {
        "id": "pLwMVHkKYnjk"
      },
      "source": [
        ""
      ],
      "execution_count": null,
      "outputs": []
    },
    {
      "cell_type": "code",
      "metadata": {
        "id": "nPTBwIE4Ynl5"
      },
      "source": [
        ""
      ],
      "execution_count": null,
      "outputs": []
    },
    {
      "cell_type": "code",
      "metadata": {
        "id": "DDX49QdbNMdC"
      },
      "source": [
        ""
      ],
      "execution_count": 35,
      "outputs": []
    }
  ]
}