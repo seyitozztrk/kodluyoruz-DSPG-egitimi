{
  "nbformat": 4,
  "nbformat_minor": 0,
  "metadata": {
    "colab": {
      "name": "patikadevİleriPython4_.Classipynb",
      "provenance": [],
      "collapsed_sections": []
    },
    "kernelspec": {
      "name": "python3",
      "display_name": "Python 3"
    },
    "language_info": {
      "name": "python"
    }
  },
  "cells": [
    {
      "cell_type": "markdown",
      "metadata": {
        "id": "Tlw_OARbKLzQ"
      },
      "source": [
        "#Class Tanımlamak\n",
        "\n",
        "x Class mantığında hem fonksiyonalite hem de veriyi bir arada tutma yoluna bakacağız. \n",
        "\n",
        "x Class'ın içerisindeki veri(data)'lara attribute, fonksiyonlara method diyeceğiz. \n",
        "\n",
        "x Örneğin; bir iş yeri çalışanları kodumuzda ifade etmek istiyoruz. Sanki bu class mantığı ile uyumlu çalışacaktır. Her çalışanın farklı farklı özellikleri (attribute)'ları ve yaptıkları işler (methodları) olacaktır. \n",
        "\n",
        "x Class içerisinde method yaratırken, class'tan yaratılan objeyi methodlar ilk arguman olarak alır, ve bu argumana ortak ağız oluşması açısından \"self\" ismini veriyoruz. Fakat bu kişinin isteği doğrultusunda değişime uğrayabilir. "
      ]
    },
    {
      "cell_type": "markdown",
      "metadata": {
        "id": "F1jI3xG0LmGg"
      },
      "source": [
        "#Attribute"
      ]
    },
    {
      "cell_type": "code",
      "metadata": {
        "colab": {
          "base_uri": "https://localhost:8080/",
          "height": 126
        },
        "id": "d07dO5MvGoVY",
        "outputId": "272ba33c-3f45-4a39-f989-2b008f87eba5"
      },
      "source": [
        "# it gives error \n",
        "class Employee:"
      ],
      "execution_count": 1,
      "outputs": [
        {
          "output_type": "error",
          "ename": "SyntaxError",
          "evalue": "ignored",
          "traceback": [
            "\u001b[0;36m  File \u001b[0;32m\"<ipython-input-1-4c4cf58195f5>\"\u001b[0;36m, line \u001b[0;32m2\u001b[0m\n\u001b[0;31m    class Employee:\u001b[0m\n\u001b[0m                   ^\u001b[0m\n\u001b[0;31mSyntaxError\u001b[0m\u001b[0;31m:\u001b[0m unexpected EOF while parsing\n"
          ]
        }
      ]
    },
    {
      "cell_type": "code",
      "metadata": {
        "id": "NycKNTbNLnvy"
      },
      "source": [
        "class Employee:\n",
        "  pass "
      ],
      "execution_count": 2,
      "outputs": []
    },
    {
      "cell_type": "code",
      "metadata": {
        "id": "eHl5JeZULnyB"
      },
      "source": [
        "e = Employee()\n",
        "\n",
        "# e objesine \"a\" attribute'u ekledik.\n",
        "e.a = 4"
      ],
      "execution_count": 3,
      "outputs": []
    },
    {
      "cell_type": "code",
      "metadata": {
        "colab": {
          "base_uri": "https://localhost:8080/"
        },
        "id": "XDKb6OR8Ln0X",
        "outputId": "839f1a83-d82a-4fe7-8b19-daf5b0353aea"
      },
      "source": [
        "e.a"
      ],
      "execution_count": 4,
      "outputs": [
        {
          "output_type": "execute_result",
          "data": {
            "text/plain": [
              "4"
            ]
          },
          "metadata": {
            "tags": []
          },
          "execution_count": 4
        }
      ]
    },
    {
      "cell_type": "code",
      "metadata": {
        "id": "FedHieuoLn3h"
      },
      "source": [
        "# yukarıdaki gibi tek tek vermek yerine en başta class'ı tanımlarken bütün attribute'ları verebiliriz. \n",
        "\n",
        "class Employee:\n",
        "  def __init__(self, name, last, age, pay):\n",
        "    self.name = name \n",
        "    self.last = last \n",
        "    self.age = age \n",
        "    self.pay = pay "
      ],
      "execution_count": 6,
      "outputs": []
    },
    {
      "cell_type": "code",
      "metadata": {
        "id": "FHBtveMhLn55"
      },
      "source": [
        "# class bu parametrelr ile birlikte obje yaratmak için bir kalıptır sadece!!!\n",
        "emp_1 = Employee(\"seyit\", \"cabbar\", \"44\", 44444)\n",
        "\n",
        "# üst satırdaki kod ile bir obje yarattık, Employee class'ının bir objesi"
      ],
      "execution_count": 7,
      "outputs": []
    },
    {
      "cell_type": "code",
      "metadata": {
        "colab": {
          "base_uri": "https://localhost:8080/",
          "height": 35
        },
        "id": "3mnOMZCHLn8W",
        "outputId": "919caa67-3bbb-4900-ad95-1a2c65be0f33"
      },
      "source": [
        "emp_1.last"
      ],
      "execution_count": 10,
      "outputs": [
        {
          "output_type": "execute_result",
          "data": {
            "application/vnd.google.colaboratory.intrinsic+json": {
              "type": "string"
            },
            "text/plain": [
              "'cabbar'"
            ]
          },
          "metadata": {
            "tags": []
          },
          "execution_count": 10
        }
      ]
    },
    {
      "cell_type": "markdown",
      "metadata": {
        "id": "NNrOVCu1MuiZ"
      },
      "source": [
        "Burada yaratılan bütün attribute'lar instance variable'dır. Her obje (classtan yaratılan instance), kendine özel attribute'a sahip(iki kişinin adı aynı olabilir) fakat hepsi için ayrı bir variable var ve hepsi kendi age attribute'unda tutuluyor."
      ]
    },
    {
      "cell_type": "code",
      "metadata": {
        "id": "6xtDfKU7Ln_I"
      },
      "source": [
        "class Employee:\n",
        "  def __init__(self, name, last, age, pay):\n",
        "    self.name = name \n",
        "    self.last = last \n",
        "    self.age = age \n",
        "    self.pay = pay \n",
        "\n",
        "  def fullname(self):\n",
        "    print(f\"{self.name} {self.last}\") "
      ],
      "execution_count": 11,
      "outputs": []
    },
    {
      "cell_type": "code",
      "metadata": {
        "colab": {
          "base_uri": "https://localhost:8080/"
        },
        "id": "mtGMe_uELoBa",
        "outputId": "89eeb3b8-e1d7-4958-de30-576b26eb8de0"
      },
      "source": [
        "emp_2 = Employee(\"seyit2\", \"cabbar2\", \"22\", 2222)\n",
        "emp_3 = Employee(\"seyit3\", \"cabbar3\", \"44\", 3333)\n",
        "emp_2.fullname()\n",
        "emp_3.fullname()"
      ],
      "execution_count": 12,
      "outputs": [
        {
          "output_type": "stream",
          "text": [
            "seyit2 cabbar2\n",
            "seyit3 cabbar3\n"
          ],
          "name": "stdout"
        }
      ]
    },
    {
      "cell_type": "code",
      "metadata": {
        "id": "c7TXPpA9LoDm"
      },
      "source": [
        ""
      ],
      "execution_count": null,
      "outputs": []
    },
    {
      "cell_type": "code",
      "metadata": {
        "id": "aD1PIAVKLoFy"
      },
      "source": [
        ""
      ],
      "execution_count": null,
      "outputs": []
    },
    {
      "cell_type": "code",
      "metadata": {
        "id": "PBxH0kJHLoIN"
      },
      "source": [
        ""
      ],
      "execution_count": null,
      "outputs": []
    },
    {
      "cell_type": "code",
      "metadata": {
        "id": "XHXo_I80LoKm"
      },
      "source": [
        ""
      ],
      "execution_count": null,
      "outputs": []
    },
    {
      "cell_type": "code",
      "metadata": {
        "id": "_t1KHIGPLoNc"
      },
      "source": [
        ""
      ],
      "execution_count": null,
      "outputs": []
    },
    {
      "cell_type": "code",
      "metadata": {
        "id": "GR74vvYdLoQV"
      },
      "source": [
        ""
      ],
      "execution_count": null,
      "outputs": []
    },
    {
      "cell_type": "code",
      "metadata": {
        "id": "0bdGbWenLoS2"
      },
      "source": [
        ""
      ],
      "execution_count": null,
      "outputs": []
    },
    {
      "cell_type": "code",
      "metadata": {
        "id": "8_mJxmQALoVa"
      },
      "source": [
        ""
      ],
      "execution_count": null,
      "outputs": []
    },
    {
      "cell_type": "code",
      "metadata": {
        "id": "E9oMp01ELoYX"
      },
      "source": [
        ""
      ],
      "execution_count": null,
      "outputs": []
    }
  ]
}