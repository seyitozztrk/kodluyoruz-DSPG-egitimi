{
 "cells": [
  {
   "cell_type": "code",
   "execution_count": 6,
   "id": "cacaadfd",
   "metadata": {},
   "outputs": [
    {
     "name": "stdout",
     "output_type": "stream",
     "text": [
      "type of number =  <class 'int'>\n",
      "casting to integer =  2\n",
      "casting to float =  4.0\n"
     ]
    }
   ],
   "source": [
    "#type of variable\n",
    "print('type of number = ',type(3))\n",
    "#type casting \n",
    "print('casting to integer = ',int(2.4))\n",
    "print('casting to float = ',float(4))"
   ]
  },
  {
   "cell_type": "code",
   "execution_count": 14,
   "id": "a38c65c3",
   "metadata": {},
   "outputs": [
    {
     "name": "stdout",
     "output_type": "stream",
     "text": [
      "int division ->  2\n",
      "normal division ->  2.5\n",
      "\n",
      "  1\n",
      "\n",
      "  -1\n"
     ]
    }
   ],
   "source": [
    "print('int division -> ', 5 // 2)\n",
    "print('normal division -> ', 5/2)\n",
    "\n",
    "print('\\n ', 5%2)\n",
    "print('\\n ', (-5) % -2)"
   ]
  },
  {
   "cell_type": "code",
   "execution_count": 17,
   "id": "1f13e102",
   "metadata": {},
   "outputs": [
    {
     "data": {
      "text/plain": [
       "'1s'"
      ]
     },
     "execution_count": 17,
     "metadata": {},
     "output_type": "execute_result"
    }
   ],
   "source": [
    "str(1) + 's'"
   ]
  },
  {
   "cell_type": "code",
   "execution_count": 22,
   "id": "06321ff2",
   "metadata": {},
   "outputs": [
    {
     "name": "stdout",
     "output_type": "stream",
     "text": [
      "seyit\n",
      "e\n",
      "sey\n"
     ]
    }
   ],
   "source": [
    "#Strings\n",
    "\n",
    "stringg = 'seyit'\n",
    "print(stringg)\n",
    "print(stringg[1])\n",
    "print(stringg[:3])"
   ]
  },
  {
   "cell_type": "code",
   "execution_count": 23,
   "id": "eb303054",
   "metadata": {},
   "outputs": [
    {
     "data": {
      "text/plain": [
       "'bana \"bugün ne yapıyorsun\" dedi'"
      ]
     },
     "execution_count": 23,
     "metadata": {},
     "output_type": "execute_result"
    }
   ],
   "source": [
    "#escape sequences\n",
    "\"bana \\\"Bugün ne yapıyorsun\\\" dedi\""
   ]
  },
  {
   "cell_type": "code",
   "execution_count": 24,
   "id": "d206fd05",
   "metadata": {},
   "outputs": [
    {
     "data": {
      "text/plain": [
       "\"bana 'Bugün ne yapıyorsun' dedi\""
      ]
     },
     "execution_count": 24,
     "metadata": {},
     "output_type": "execute_result"
    }
   ],
   "source": [
    "#escape sequences\n",
    "\"bana \\'Bugün ne yapıyorsun\\' dedi\""
   ]
  },
  {
   "cell_type": "code",
   "execution_count": 27,
   "id": "35c5b09f",
   "metadata": {},
   "outputs": [
    {
     "name": "stdout",
     "output_type": "stream",
     "text": [
      "hey \n",
      " nasılsın\n"
     ]
    }
   ],
   "source": [
    "print(\"hey \\n nasılsın\")"
   ]
  },
  {
   "cell_type": "code",
   "execution_count": 36,
   "id": "0fcffa5b",
   "metadata": {},
   "outputs": [
    {
     "name": "stdout",
     "output_type": "stream",
     "text": [
      "hey\tnasılsın\n",
      "hey     nasılsın\n",
      "heyyyo heyyyo heyyyo heyyyo \n"
     ]
    }
   ],
   "source": [
    "print(\"hey\\tnasılsın\") #5 tab \n",
    "print(\"hey     nasılsın\")\n",
    "\n",
    "print(4*\"heyyyo \")"
   ]
  },
  {
   "cell_type": "code",
   "execution_count": 41,
   "id": "bba33653",
   "metadata": {},
   "outputs": [
    {
     "name": "stdout",
     "output_type": "stream",
     "text": [
      "mraaakdşa\n",
      "ralşadakra abahre\n"
     ]
    }
   ],
   "source": [
    "line = \"merhaba arkadaşlar\"\n",
    "print(line[0:20:2])\n",
    "print(line[20:0:-1])"
   ]
  },
  {
   "cell_type": "code",
   "execution_count": 44,
   "id": "a329783f",
   "metadata": {},
   "outputs": [
    {
     "name": "stdout",
     "output_type": "stream",
     "text": [
      "5\n",
      "5\n"
     ]
    }
   ],
   "source": [
    "#casting in strings\n",
    "a = \"5\"\n",
    "b = \"5.3\"\n",
    "print(int(a))\n",
    "print(int(float(b)))"
   ]
  },
  {
   "cell_type": "code",
   "execution_count": 47,
   "id": "e5779acb",
   "metadata": {},
   "outputs": [
    {
     "name": "stdout",
     "output_type": "stream",
     "text": [
      "bir sayi giriniz : 12\n",
      "girilen sayi =  12\n",
      "ikinci sayiyi giriniz : 22\n",
      "ikinci girilen sayi  22\n"
     ]
    }
   ],
   "source": [
    "#input\n",
    "\n",
    "x = input(\"bir sayi giriniz : \")\n",
    "print('girilen sayi = ', x )\n",
    "\n",
    "y = input('ikinci sayiyi giriniz : ')\n",
    "print('ikinci girilen sayi ', y)"
   ]
  },
  {
   "cell_type": "code",
   "execution_count": 49,
   "id": "ae27d784",
   "metadata": {},
   "outputs": [
    {
     "name": "stdout",
     "output_type": "stream",
     "text": [
      "1222\n",
      "34\n"
     ]
    }
   ],
   "source": [
    "#we have to cast to sum them\n",
    "print(x+y)\n",
    "\n",
    "print(int(x) + int(y))"
   ]
  },
  {
   "cell_type": "code",
   "execution_count": 58,
   "id": "99221811",
   "metadata": {},
   "outputs": [],
   "source": [
    "# bu komut hata verir!\n",
    "# x=int(input(\"Ondalık bir sayı giriniz: \"))\n",
    "\n",
    "# sonuc=x*4\n",
    "\n",
    "# print(sonuc)\n"
   ]
  },
  {
   "cell_type": "code",
   "execution_count": 57,
   "id": "fb3e4b14",
   "metadata": {},
   "outputs": [
    {
     "name": "stdout",
     "output_type": "stream",
     "text": [
      "Ondalık bir sayı giriniz: 2.2\n",
      "8.8\n"
     ]
    }
   ],
   "source": [
    "# yukarıdaki kodun doğrusu :)\n",
    "x=float(input(\"Ondalık bir sayı giriniz: \"))\n",
    "\n",
    "sonuc=x*4\n",
    "\n",
    "print(sonuc)"
   ]
  },
  {
   "cell_type": "code",
   "execution_count": 65,
   "id": "4a5702fc",
   "metadata": {},
   "outputs": [
    {
     "name": "stdout",
     "output_type": "stream",
     "text": [
      "True\n",
      "False\n"
     ]
    }
   ],
   "source": [
    "#String comparison\n",
    "print(\"elma\" == \"elma\")\n",
    "print('ab' < 'aa')"
   ]
  },
  {
   "cell_type": "code",
   "execution_count": 68,
   "id": "2b06b9af",
   "metadata": {},
   "outputs": [
    {
     "name": "stdout",
     "output_type": "stream",
     "text": [
      "False\n",
      "False\n",
      "True\n"
     ]
    }
   ],
   "source": [
    "#logical\n",
    "print(not True)\n",
    "print(True and False)\n",
    "print(True or False)"
   ]
  },
  {
   "cell_type": "code",
   "execution_count": 79,
   "id": "438bbba3",
   "metadata": {},
   "outputs": [
    {
     "name": "stdout",
     "output_type": "stream",
     "text": [
      "False\n",
      "True\n"
     ]
    }
   ],
   "source": [
    "#short circuit\n",
    "print((5<3) and print('hey'))\n",
    "print((5>3) or print('hey'))"
   ]
  },
  {
   "cell_type": "code",
   "execution_count": 80,
   "id": "c91f193c",
   "metadata": {},
   "outputs": [
    {
     "name": "stdout",
     "output_type": "stream",
     "text": [
      "hey\n",
      "None\n"
     ]
    }
   ],
   "source": [
    "print((5<3) or print('hey'))"
   ]
  },
  {
   "cell_type": "code",
   "execution_count": 81,
   "id": "a6c04dab",
   "metadata": {},
   "outputs": [
    {
     "name": "stdout",
     "output_type": "stream",
     "text": [
      "hey\n",
      "None\n"
     ]
    }
   ],
   "source": [
    "print((5>3) and print('hey'))"
   ]
  },
  {
   "cell_type": "code",
   "execution_count": 82,
   "id": "44f1330e",
   "metadata": {},
   "outputs": [
    {
     "name": "stdout",
     "output_type": "stream",
     "text": [
      "hey\n"
     ]
    },
    {
     "ename": "TypeError",
     "evalue": "unsupported operand type(s) for |: 'bool' and 'NoneType'",
     "output_type": "error",
     "traceback": [
      "\u001b[1;31m---------------------------------------------------------------------------\u001b[0m",
      "\u001b[1;31mTypeError\u001b[0m                                 Traceback (most recent call last)",
      "\u001b[1;32m<ipython-input-82-b3a568b6c8ec>\u001b[0m in \u001b[0;36m<module>\u001b[1;34m\u001b[0m\n\u001b[0;32m      1\u001b[0m \u001b[1;31m#non short circuit\u001b[0m\u001b[1;33m\u001b[0m\u001b[1;33m\u001b[0m\u001b[1;33m\u001b[0m\u001b[0m\n\u001b[1;32m----> 2\u001b[1;33m \u001b[0mprint\u001b[0m\u001b[1;33m(\u001b[0m\u001b[1;33m(\u001b[0m\u001b[1;36m5\u001b[0m\u001b[1;33m>\u001b[0m\u001b[1;36m3\u001b[0m\u001b[1;33m)\u001b[0m \u001b[1;33m|\u001b[0m \u001b[0mprint\u001b[0m\u001b[1;33m(\u001b[0m\u001b[1;34m'hey'\u001b[0m\u001b[1;33m)\u001b[0m\u001b[1;33m)\u001b[0m\u001b[1;33m\u001b[0m\u001b[1;33m\u001b[0m\u001b[0m\n\u001b[0m",
      "\u001b[1;31mTypeError\u001b[0m: unsupported operand type(s) for |: 'bool' and 'NoneType'"
     ]
    }
   ],
   "source": [
    "#non short circuit\n",
    "print((5>3) | print('hey'))"
   ]
  },
  {
   "cell_type": "code",
   "execution_count": 83,
   "id": "bfa99aaa",
   "metadata": {},
   "outputs": [
    {
     "name": "stdout",
     "output_type": "stream",
     "text": [
      "hey\n"
     ]
    },
    {
     "ename": "TypeError",
     "evalue": "unsupported operand type(s) for &: 'bool' and 'NoneType'",
     "output_type": "error",
     "traceback": [
      "\u001b[1;31m---------------------------------------------------------------------------\u001b[0m",
      "\u001b[1;31mTypeError\u001b[0m                                 Traceback (most recent call last)",
      "\u001b[1;32m<ipython-input-83-7e4d62ff7ffa>\u001b[0m in \u001b[0;36m<module>\u001b[1;34m\u001b[0m\n\u001b[1;32m----> 1\u001b[1;33m \u001b[0mprint\u001b[0m\u001b[1;33m(\u001b[0m\u001b[1;33m(\u001b[0m\u001b[1;36m5\u001b[0m\u001b[1;33m>\u001b[0m\u001b[1;36m3\u001b[0m\u001b[1;33m)\u001b[0m \u001b[1;33m&\u001b[0m \u001b[0mprint\u001b[0m\u001b[1;33m(\u001b[0m\u001b[1;34m'hey'\u001b[0m\u001b[1;33m)\u001b[0m\u001b[1;33m)\u001b[0m\u001b[1;33m\u001b[0m\u001b[1;33m\u001b[0m\u001b[0m\n\u001b[0m",
      "\u001b[1;31mTypeError\u001b[0m: unsupported operand type(s) for &: 'bool' and 'NoneType'"
     ]
    }
   ],
   "source": [
    "print((5>3) & print('hey'))"
   ]
  },
  {
   "cell_type": "code",
   "execution_count": 86,
   "id": "b095d648",
   "metadata": {},
   "outputs": [
    {
     "name": "stdout",
     "output_type": "stream",
     "text": [
      "0 ile 100 arasında bir sayi giriniz:  99\n",
      "sayi 90 ile 100 arasinda\n"
     ]
    }
   ],
   "source": [
    "#if_elif_else blocks\n",
    "x = int(input(\"0 ile 100 arasında bir sayi giriniz:  \"))\n",
    "\n",
    "if x == 100:\n",
    "    print('sayi 100')\n",
    "elif x >= 90:\n",
    "    print('sayi 90 ile 100 arasinda')\n",
    "elif x >= 80:\n",
    "    print('sayi 80 ile 90 arasinda')\n",
    "else:\n",
    "    print(\"sayi 80'den kucuk\")"
   ]
  },
  {
   "cell_type": "code",
   "execution_count": 93,
   "id": "75f491bd",
   "metadata": {},
   "outputs": [
    {
     "name": "stdout",
     "output_type": "stream",
     "text": [
      "x in degeri 2 olsun mu ? y/n :n\n",
      "x =  0\n"
     ]
    }
   ],
   "source": [
    "#ternary conditionals \n",
    "cevap = input(\"x in degeri 2 olsun mu ? y/n :\")\n",
    "\n",
    "x = 2 if cevap==\"y\" else 0\n",
    "print(\"x = \" , x)"
   ]
  },
  {
   "cell_type": "code",
   "execution_count": 95,
   "id": "32f90f7e",
   "metadata": {},
   "outputs": [
    {
     "name": "stdout",
     "output_type": "stream",
     "text": [
      "i:  0\n",
      "i:  1\n",
      "i:  2\n"
     ]
    },
    {
     "ename": "KeyboardInterrupt",
     "evalue": "",
     "output_type": "error",
     "traceback": [
      "\u001b[1;31m---------------------------------------------------------------------------\u001b[0m",
      "\u001b[1;31mKeyboardInterrupt\u001b[0m                         Traceback (most recent call last)",
      "\u001b[1;32m<ipython-input-95-375bd3e93926>\u001b[0m in \u001b[0;36m<module>\u001b[1;34m\u001b[0m\n\u001b[0;32m      1\u001b[0m \u001b[0mi\u001b[0m\u001b[1;33m=\u001b[0m\u001b[1;36m0\u001b[0m\u001b[1;33m\u001b[0m\u001b[1;33m\u001b[0m\u001b[0m\n\u001b[0;32m      2\u001b[0m \u001b[1;32mwhile\u001b[0m\u001b[1;33m(\u001b[0m\u001b[0mi\u001b[0m\u001b[1;33m<\u001b[0m\u001b[1;36m10\u001b[0m\u001b[1;33m)\u001b[0m\u001b[1;33m:\u001b[0m\u001b[1;33m\u001b[0m\u001b[1;33m\u001b[0m\u001b[0m\n\u001b[1;32m----> 3\u001b[1;33m     \u001b[1;32mif\u001b[0m\u001b[1;33m(\u001b[0m\u001b[0mi\u001b[0m\u001b[1;33m==\u001b[0m\u001b[1;36m3\u001b[0m \u001b[1;32mor\u001b[0m \u001b[0mi\u001b[0m\u001b[1;33m==\u001b[0m\u001b[1;36m5\u001b[0m\u001b[1;33m)\u001b[0m\u001b[1;33m:\u001b[0m\u001b[1;33m\u001b[0m\u001b[1;33m\u001b[0m\u001b[0m\n\u001b[0m\u001b[0;32m      4\u001b[0m        \u001b[1;32mcontinue\u001b[0m\u001b[1;33m\u001b[0m\u001b[1;33m\u001b[0m\u001b[0m\n\u001b[0;32m      5\u001b[0m     \u001b[0mprint\u001b[0m\u001b[1;33m(\u001b[0m\u001b[1;34m\"i: \"\u001b[0m\u001b[1;33m,\u001b[0m\u001b[0mi\u001b[0m\u001b[1;33m)\u001b[0m\u001b[1;33m\u001b[0m\u001b[1;33m\u001b[0m\u001b[0m\n",
      "\u001b[1;31mKeyboardInterrupt\u001b[0m: "
     ]
    }
   ],
   "source": [
    "i=0\n",
    "while(i<10):\n",
    "    if(i==3 or i==5):\n",
    "       continue\n",
    "    print(\"i: \",i)\n",
    "    i=i+1\n"
   ]
  },
  {
   "cell_type": "code",
   "execution_count": 103,
   "id": "28c68916",
   "metadata": {},
   "outputs": [
    {
     "name": "stdout",
     "output_type": "stream",
     "text": [
      "[1, 2, 3]\n"
     ]
    }
   ],
   "source": [
    "#list \n",
    "\n",
    "l = [1,2,3]\n",
    "print(l)"
   ]
  },
  {
   "cell_type": "code",
   "execution_count": 104,
   "id": "c4be014f",
   "metadata": {},
   "outputs": [
    {
     "name": "stdout",
     "output_type": "stream",
     "text": [
      "[1, 2, 3, 200]\n"
     ]
    }
   ],
   "source": [
    "l.append(200)\n",
    "print(l)"
   ]
  },
  {
   "cell_type": "code",
   "execution_count": 105,
   "id": "f313fede",
   "metadata": {},
   "outputs": [],
   "source": [
    "#extend\n",
    "l.extend([10,20,30])"
   ]
  },
  {
   "cell_type": "code",
   "execution_count": 106,
   "id": "ca9b5c12",
   "metadata": {},
   "outputs": [
    {
     "name": "stdout",
     "output_type": "stream",
     "text": [
      "[1, 2, 3, 200, 10, 20, 30]\n"
     ]
    }
   ],
   "source": [
    "print(l)"
   ]
  },
  {
   "cell_type": "code",
   "execution_count": 107,
   "id": "bf049eca",
   "metadata": {},
   "outputs": [],
   "source": [
    "l.insert(0,111)"
   ]
  },
  {
   "cell_type": "code",
   "execution_count": 108,
   "id": "4d4a1fd4",
   "metadata": {},
   "outputs": [
    {
     "data": {
      "text/plain": [
       "[111, 1, 2, 3, 200, 10, 20, 30]"
      ]
     },
     "execution_count": 108,
     "metadata": {},
     "output_type": "execute_result"
    }
   ],
   "source": [
    "l"
   ]
  },
  {
   "cell_type": "code",
   "execution_count": 109,
   "id": "decd864d",
   "metadata": {},
   "outputs": [],
   "source": [
    "l.insert(3,222)"
   ]
  },
  {
   "cell_type": "code",
   "execution_count": 110,
   "id": "169a1d92",
   "metadata": {},
   "outputs": [
    {
     "data": {
      "text/plain": [
       "[111, 1, 2, 222, 3, 200, 10, 20, 30]"
      ]
     },
     "execution_count": 110,
     "metadata": {},
     "output_type": "execute_result"
    }
   ],
   "source": [
    "l"
   ]
  },
  {
   "cell_type": "code",
   "execution_count": 111,
   "id": "53bc8819",
   "metadata": {},
   "outputs": [],
   "source": [
    "l.remove(222)"
   ]
  },
  {
   "cell_type": "code",
   "execution_count": 112,
   "id": "0023b168",
   "metadata": {},
   "outputs": [
    {
     "data": {
      "text/plain": [
       "[111, 1, 2, 3, 200, 10, 20, 30]"
      ]
     },
     "execution_count": 112,
     "metadata": {},
     "output_type": "execute_result"
    }
   ],
   "source": [
    "l"
   ]
  },
  {
   "cell_type": "code",
   "execution_count": 113,
   "id": "cb3456a0",
   "metadata": {},
   "outputs": [],
   "source": [
    "try:\n",
    "    l.remove(40)\n",
    "except ValueError:\n",
    "    pass"
   ]
  },
  {
   "cell_type": "code",
   "execution_count": 114,
   "id": "95d2fe44",
   "metadata": {},
   "outputs": [
    {
     "data": {
      "text/plain": [
       "[111, 1, 2, 3, 200, 10, 20, 30]"
      ]
     },
     "execution_count": 114,
     "metadata": {},
     "output_type": "execute_result"
    }
   ],
   "source": [
    "l"
   ]
  },
  {
   "cell_type": "code",
   "execution_count": 115,
   "id": "d77708fb",
   "metadata": {},
   "outputs": [
    {
     "data": {
      "text/plain": [
       "1"
      ]
     },
     "execution_count": 115,
     "metadata": {},
     "output_type": "execute_result"
    }
   ],
   "source": [
    "l.pop(1)"
   ]
  },
  {
   "cell_type": "code",
   "execution_count": 116,
   "id": "50f77f26",
   "metadata": {},
   "outputs": [
    {
     "data": {
      "text/plain": [
       "[111, 2, 3, 200, 10, 20, 30]"
      ]
     },
     "execution_count": 116,
     "metadata": {},
     "output_type": "execute_result"
    }
   ],
   "source": [
    "l"
   ]
  },
  {
   "cell_type": "code",
   "execution_count": 117,
   "id": "8f850050",
   "metadata": {},
   "outputs": [
    {
     "data": {
      "text/plain": [
       "1"
      ]
     },
     "execution_count": 117,
     "metadata": {},
     "output_type": "execute_result"
    }
   ],
   "source": [
    "l.count(10)"
   ]
  },
  {
   "cell_type": "code",
   "execution_count": 118,
   "id": "053407c3",
   "metadata": {},
   "outputs": [],
   "source": [
    "l2 = l"
   ]
  },
  {
   "cell_type": "code",
   "execution_count": 119,
   "id": "92d1bd6e",
   "metadata": {},
   "outputs": [
    {
     "data": {
      "text/plain": [
       "[111, 2, 3, 200, 10, 20, 30]"
      ]
     },
     "execution_count": 119,
     "metadata": {},
     "output_type": "execute_result"
    }
   ],
   "source": [
    "l2"
   ]
  },
  {
   "cell_type": "code",
   "execution_count": 120,
   "id": "d6c32b7e",
   "metadata": {},
   "outputs": [
    {
     "data": {
      "text/plain": [
       "[111, 2, 3, 200, 10, 20, 30]"
      ]
     },
     "execution_count": 120,
     "metadata": {},
     "output_type": "execute_result"
    }
   ],
   "source": [
    "l"
   ]
  },
  {
   "cell_type": "code",
   "execution_count": 121,
   "id": "69e8cefc",
   "metadata": {},
   "outputs": [
    {
     "data": {
      "text/plain": [
       "3"
      ]
     },
     "execution_count": 121,
     "metadata": {},
     "output_type": "execute_result"
    }
   ],
   "source": [
    "l.pop(2)"
   ]
  },
  {
   "cell_type": "code",
   "execution_count": 122,
   "id": "9f295e6c",
   "metadata": {},
   "outputs": [
    {
     "data": {
      "text/plain": [
       "[111, 2, 200, 10, 20, 30]"
      ]
     },
     "execution_count": 122,
     "metadata": {},
     "output_type": "execute_result"
    }
   ],
   "source": [
    "l"
   ]
  },
  {
   "cell_type": "code",
   "execution_count": 123,
   "id": "6820c647",
   "metadata": {},
   "outputs": [
    {
     "data": {
      "text/plain": [
       "[111, 2, 200, 10, 20, 30]"
      ]
     },
     "execution_count": 123,
     "metadata": {},
     "output_type": "execute_result"
    }
   ],
   "source": [
    "l2"
   ]
  },
  {
   "cell_type": "code",
   "execution_count": 124,
   "id": "bd6e72d7",
   "metadata": {},
   "outputs": [],
   "source": [
    "l3 = l.copy()"
   ]
  },
  {
   "cell_type": "code",
   "execution_count": 125,
   "id": "63b4021a",
   "metadata": {},
   "outputs": [
    {
     "data": {
      "text/plain": [
       "[111, 2, 200, 10, 20, 30]"
      ]
     },
     "execution_count": 125,
     "metadata": {},
     "output_type": "execute_result"
    }
   ],
   "source": [
    "l3"
   ]
  },
  {
   "cell_type": "code",
   "execution_count": 126,
   "id": "58846399",
   "metadata": {},
   "outputs": [
    {
     "data": {
      "text/plain": [
       "[111, 2, 200, 10, 20, 30]"
      ]
     },
     "execution_count": 126,
     "metadata": {},
     "output_type": "execute_result"
    }
   ],
   "source": [
    "l2"
   ]
  },
  {
   "cell_type": "code",
   "execution_count": 127,
   "id": "c4d6d47a",
   "metadata": {},
   "outputs": [
    {
     "data": {
      "text/plain": [
       "[111, 2, 200, 10, 20, 30]"
      ]
     },
     "execution_count": 127,
     "metadata": {},
     "output_type": "execute_result"
    }
   ],
   "source": [
    "l"
   ]
  },
  {
   "cell_type": "code",
   "execution_count": 129,
   "id": "f792ec8f",
   "metadata": {},
   "outputs": [
    {
     "data": {
      "text/plain": [
       "200"
      ]
     },
     "execution_count": 129,
     "metadata": {},
     "output_type": "execute_result"
    }
   ],
   "source": [
    "l.pop(2)"
   ]
  },
  {
   "cell_type": "code",
   "execution_count": 130,
   "id": "53e31020",
   "metadata": {},
   "outputs": [
    {
     "data": {
      "text/plain": [
       "[111, 2, 10, 20, 30]"
      ]
     },
     "execution_count": 130,
     "metadata": {},
     "output_type": "execute_result"
    }
   ],
   "source": [
    "l2"
   ]
  },
  {
   "cell_type": "code",
   "execution_count": 131,
   "id": "dd8b9b2a",
   "metadata": {},
   "outputs": [
    {
     "data": {
      "text/plain": [
       "[111, 2, 200, 10, 20, 30]"
      ]
     },
     "execution_count": 131,
     "metadata": {},
     "output_type": "execute_result"
    }
   ],
   "source": [
    "l3"
   ]
  },
  {
   "cell_type": "code",
   "execution_count": 132,
   "id": "620552f4",
   "metadata": {},
   "outputs": [],
   "source": [
    "l4 = l + l2"
   ]
  },
  {
   "cell_type": "code",
   "execution_count": 133,
   "id": "b6bb93f5",
   "metadata": {},
   "outputs": [
    {
     "data": {
      "text/plain": [
       "[111, 2, 10, 20, 30]"
      ]
     },
     "execution_count": 133,
     "metadata": {},
     "output_type": "execute_result"
    }
   ],
   "source": [
    "l"
   ]
  },
  {
   "cell_type": "code",
   "execution_count": 134,
   "id": "897acd85",
   "metadata": {},
   "outputs": [
    {
     "data": {
      "text/plain": [
       "[111, 2, 10, 20, 30]"
      ]
     },
     "execution_count": 134,
     "metadata": {},
     "output_type": "execute_result"
    }
   ],
   "source": [
    "l2"
   ]
  },
  {
   "cell_type": "code",
   "execution_count": 135,
   "id": "a2d4dfdc",
   "metadata": {},
   "outputs": [
    {
     "data": {
      "text/plain": [
       "[111, 2, 10, 20, 30, 111, 2, 10, 20, 30]"
      ]
     },
     "execution_count": 135,
     "metadata": {},
     "output_type": "execute_result"
    }
   ],
   "source": [
    "l4"
   ]
  },
  {
   "cell_type": "code",
   "execution_count": 136,
   "id": "45e8637b",
   "metadata": {},
   "outputs": [],
   "source": [
    "l2.remove(111)"
   ]
  },
  {
   "cell_type": "code",
   "execution_count": 137,
   "id": "25021b2b",
   "metadata": {},
   "outputs": [
    {
     "data": {
      "text/plain": [
       "[2, 10, 20, 30]"
      ]
     },
     "execution_count": 137,
     "metadata": {},
     "output_type": "execute_result"
    }
   ],
   "source": [
    "l2"
   ]
  },
  {
   "cell_type": "code",
   "execution_count": 138,
   "id": "bd17c0aa",
   "metadata": {},
   "outputs": [
    {
     "data": {
      "text/plain": [
       "[2, 10, 20, 30]"
      ]
     },
     "execution_count": 138,
     "metadata": {},
     "output_type": "execute_result"
    }
   ],
   "source": [
    "l"
   ]
  },
  {
   "cell_type": "code",
   "execution_count": 139,
   "id": "311fbee3",
   "metadata": {},
   "outputs": [
    {
     "data": {
      "text/plain": [
       "[111, 2, 10, 20, 30, 111, 2, 10, 20, 30]"
      ]
     },
     "execution_count": 139,
     "metadata": {},
     "output_type": "execute_result"
    }
   ],
   "source": [
    "l4"
   ]
  },
  {
   "cell_type": "code",
   "execution_count": 140,
   "id": "1dcda209",
   "metadata": {},
   "outputs": [
    {
     "data": {
      "text/plain": [
       "2"
      ]
     },
     "execution_count": 140,
     "metadata": {},
     "output_type": "execute_result"
    }
   ],
   "source": [
    "l4.index(10)"
   ]
  },
  {
   "cell_type": "code",
   "execution_count": 141,
   "id": "bde7d849",
   "metadata": {},
   "outputs": [
    {
     "data": {
      "text/plain": [
       "[2, 10, 20, 30]"
      ]
     },
     "execution_count": 141,
     "metadata": {},
     "output_type": "execute_result"
    }
   ],
   "source": [
    "l"
   ]
  },
  {
   "cell_type": "code",
   "execution_count": 142,
   "id": "032ed667",
   "metadata": {},
   "outputs": [],
   "source": [
    "l.reverse()"
   ]
  },
  {
   "cell_type": "code",
   "execution_count": 143,
   "id": "01e8a2fc",
   "metadata": {},
   "outputs": [
    {
     "data": {
      "text/plain": [
       "[30, 20, 10, 2]"
      ]
     },
     "execution_count": 143,
     "metadata": {},
     "output_type": "execute_result"
    }
   ],
   "source": [
    "l"
   ]
  },
  {
   "cell_type": "code",
   "execution_count": 144,
   "id": "c935eaaf",
   "metadata": {},
   "outputs": [
    {
     "data": {
      "text/plain": [
       "[30, 20, 10, 2]"
      ]
     },
     "execution_count": 144,
     "metadata": {},
     "output_type": "execute_result"
    }
   ],
   "source": [
    "l2"
   ]
  },
  {
   "cell_type": "code",
   "execution_count": 145,
   "id": "a929fca5",
   "metadata": {},
   "outputs": [
    {
     "data": {
      "text/plain": [
       "[30, 20, 10, 2]"
      ]
     },
     "execution_count": 145,
     "metadata": {},
     "output_type": "execute_result"
    }
   ],
   "source": [
    "l"
   ]
  },
  {
   "cell_type": "code",
   "execution_count": 146,
   "id": "5a087ea5",
   "metadata": {},
   "outputs": [
    {
     "data": {
      "text/plain": [
       "[2, 10, 20, 30]"
      ]
     },
     "execution_count": 146,
     "metadata": {},
     "output_type": "execute_result"
    }
   ],
   "source": [
    "l[::-1]"
   ]
  },
  {
   "cell_type": "code",
   "execution_count": 147,
   "id": "550518bb",
   "metadata": {},
   "outputs": [
    {
     "data": {
      "text/plain": [
       "[30, 20, 10, 2]"
      ]
     },
     "execution_count": 147,
     "metadata": {},
     "output_type": "execute_result"
    }
   ],
   "source": [
    "l"
   ]
  },
  {
   "cell_type": "code",
   "execution_count": 148,
   "id": "d7c62c7d",
   "metadata": {},
   "outputs": [
    {
     "data": {
      "text/plain": [
       "[2, 10, 20, 30]"
      ]
     },
     "execution_count": 148,
     "metadata": {},
     "output_type": "execute_result"
    }
   ],
   "source": [
    "sorted(l)"
   ]
  },
  {
   "cell_type": "code",
   "execution_count": 149,
   "id": "bc1e4da3",
   "metadata": {},
   "outputs": [
    {
     "data": {
      "text/plain": [
       "[30, 20, 10, 2]"
      ]
     },
     "execution_count": 149,
     "metadata": {},
     "output_type": "execute_result"
    }
   ],
   "source": [
    "l"
   ]
  },
  {
   "cell_type": "code",
   "execution_count": 150,
   "id": "da8642b4",
   "metadata": {},
   "outputs": [],
   "source": [
    "l.sort() #inplace"
   ]
  },
  {
   "cell_type": "code",
   "execution_count": 151,
   "id": "ec9bf244",
   "metadata": {},
   "outputs": [
    {
     "data": {
      "text/plain": [
       "[2, 10, 20, 30]"
      ]
     },
     "execution_count": 151,
     "metadata": {},
     "output_type": "execute_result"
    }
   ],
   "source": [
    "l"
   ]
  },
  {
   "cell_type": "code",
   "execution_count": 153,
   "id": "80e572c2",
   "metadata": {},
   "outputs": [
    {
     "data": {
      "text/plain": [
       "False"
      ]
     },
     "execution_count": 153,
     "metadata": {},
     "output_type": "execute_result"
    }
   ],
   "source": [
    "newList = [1,2,3,4]\n",
    "\n",
    "40 in newList"
   ]
  },
  {
   "cell_type": "code",
   "execution_count": 154,
   "id": "762852ca",
   "metadata": {},
   "outputs": [
    {
     "data": {
      "text/plain": [
       "True"
      ]
     },
     "execution_count": 154,
     "metadata": {},
     "output_type": "execute_result"
    }
   ],
   "source": []
  },
  {
   "cell_type": "code",
   "execution_count": 156,
   "id": "2a32d2e6",
   "metadata": {},
   "outputs": [],
   "source": [
    "# #diffucult problem \n",
    "\n",
    "# from collections import defaultdict\n",
    "# d = defaultdict(list)\n",
    "\n",
    "# n, m = map(int, input().split())\n",
    "\n",
    "# for i in range(1,n+1):\n",
    "#     d[input()].append(str(i))\n",
    "    \n",
    "# for i in range(m):\n",
    "#     print (' '.join(d[input()]) or -1)"
   ]
  },
  {
   "cell_type": "code",
   "execution_count": 162,
   "id": "1ffb14b6",
   "metadata": {},
   "outputs": [
    {
     "name": "stdout",
     "output_type": "stream",
     "text": [
      "[90, 88]\n",
      "80\n",
      "[72, 66, 22]\n"
     ]
    }
   ],
   "source": [
    "d = {\"student_1\" : [90,88], \"student_2\" : 80, \"student_3\": [72,66,22] }\n",
    "\n",
    "for k in d.values():\n",
    "    print(k)"
   ]
  },
  {
   "cell_type": "code",
   "execution_count": 165,
   "id": "dae3c522",
   "metadata": {},
   "outputs": [
    {
     "name": "stdout",
     "output_type": "stream",
     "text": [
      "student_1\n",
      "student_2\n"
     ]
    }
   ],
   "source": [
    "d = {\"student_1\" : 90, \"student_2\" : 99, \"student_3\": 72 }\n",
    "\n",
    "for k in d:\n",
    "    value = d[k]\n",
    "    \n",
    "    if value > 85:\n",
    "        print(k)\n",
    "    "
   ]
  },
  {
   "cell_type": "code",
   "execution_count": 166,
   "id": "ba507aed",
   "metadata": {},
   "outputs": [
    {
     "name": "stdout",
     "output_type": "stream",
     "text": [
      "key degeri :  student_1  value :  90\n",
      "key degeri :  student_2  value :  99\n",
      "key degeri :  student_3  value :  72\n"
     ]
    }
   ],
   "source": [
    "for k,v in d.items():\n",
    "    print(\"key degeri : \" , k , \" value : \" , v)"
   ]
  },
  {
   "cell_type": "code",
   "execution_count": 171,
   "id": "ebe9a7ec",
   "metadata": {},
   "outputs": [],
   "source": [
    "#split\n",
    "s = \"merhaba nasılsın ?\""
   ]
  },
  {
   "cell_type": "code",
   "execution_count": 172,
   "id": "a585b0d1",
   "metadata": {},
   "outputs": [
    {
     "data": {
      "text/plain": [
       "['merhaba', 'nasılsın', '?']"
      ]
     },
     "execution_count": 172,
     "metadata": {},
     "output_type": "execute_result"
    }
   ],
   "source": [
    "s.split(\" \")"
   ]
  },
  {
   "cell_type": "code",
   "execution_count": 174,
   "id": "afb46b12",
   "metadata": {},
   "outputs": [],
   "source": [
    "#join \n",
    "l = [\"limon\",\"portakal\",\"elma\"]\n",
    "k = \",\".join(l)"
   ]
  },
  {
   "cell_type": "code",
   "execution_count": 175,
   "id": "467fe5d1",
   "metadata": {},
   "outputs": [
    {
     "data": {
      "text/plain": [
       "'limon,portakal,elma'"
      ]
     },
     "execution_count": 175,
     "metadata": {},
     "output_type": "execute_result"
    }
   ],
   "source": [
    "k"
   ]
  },
  {
   "cell_type": "code",
   "execution_count": 176,
   "id": "98c4b4d6",
   "metadata": {},
   "outputs": [
    {
     "data": {
      "text/plain": [
       "'limon*portakal*elma'"
      ]
     },
     "execution_count": 176,
     "metadata": {},
     "output_type": "execute_result"
    }
   ],
   "source": [
    "l = [\"limon\",\"portakal\",\"elma\"]\n",
    "\"*\".join(l)"
   ]
  },
  {
   "cell_type": "code",
   "execution_count": 177,
   "id": "f774a952",
   "metadata": {},
   "outputs": [],
   "source": [
    "#list comprehen.\n",
    "squares = [i*i for i in range(1,11)]"
   ]
  },
  {
   "cell_type": "code",
   "execution_count": 178,
   "id": "2d07e407",
   "metadata": {},
   "outputs": [
    {
     "data": {
      "text/plain": [
       "[1, 4, 9, 16, 25, 36, 49, 64, 81, 100]"
      ]
     },
     "execution_count": 178,
     "metadata": {},
     "output_type": "execute_result"
    }
   ],
   "source": [
    "squares"
   ]
  },
  {
   "cell_type": "code",
   "execution_count": 179,
   "id": "dd053418",
   "metadata": {},
   "outputs": [],
   "source": [
    "def cube(x):\n",
    "    return x*x*x"
   ]
  },
  {
   "cell_type": "code",
   "execution_count": 180,
   "id": "ac2aea2e",
   "metadata": {},
   "outputs": [],
   "source": [
    "cubes = [cube(x) for x in range(1,11)]"
   ]
  },
  {
   "cell_type": "code",
   "execution_count": 181,
   "id": "1047a722",
   "metadata": {},
   "outputs": [
    {
     "data": {
      "text/plain": [
       "[1, 8, 27, 64, 125, 216, 343, 512, 729, 1000]"
      ]
     },
     "execution_count": 181,
     "metadata": {},
     "output_type": "execute_result"
    }
   ],
   "source": [
    "cubes"
   ]
  },
  {
   "cell_type": "code",
   "execution_count": 182,
   "id": "68bdebd3",
   "metadata": {},
   "outputs": [
    {
     "name": "stdout",
     "output_type": "stream",
     "text": [
      "[1, 4, 9, 16, 25, 36, 49, 64, 81, 100]\n"
     ]
    }
   ],
   "source": [
    "#list comprehension and conditional structure\n",
    "square = [1, 4, 9, 16, 25, 36, 49, 64, 81, 100]\n",
    "print(square)"
   ]
  },
  {
   "cell_type": "code",
   "execution_count": 183,
   "id": "6a59085a",
   "metadata": {},
   "outputs": [],
   "source": [
    "odd_squares = [e for e in squares if e % 2 == 1]"
   ]
  },
  {
   "cell_type": "code",
   "execution_count": 184,
   "id": "855bbcca",
   "metadata": {},
   "outputs": [
    {
     "data": {
      "text/plain": [
       "[1, 9, 25, 49, 81]"
      ]
     },
     "execution_count": 184,
     "metadata": {},
     "output_type": "execute_result"
    }
   ],
   "source": [
    "odd_squares"
   ]
  },
  {
   "cell_type": "code",
   "execution_count": 185,
   "id": "528dd92e",
   "metadata": {},
   "outputs": [],
   "source": [
    "def is_odd(x):\n",
    "    \n",
    "    if x % 2==0:\n",
    "        return False\n",
    "    \n",
    "    return True"
   ]
  },
  {
   "cell_type": "code",
   "execution_count": 186,
   "id": "e067033c",
   "metadata": {},
   "outputs": [],
   "source": [
    "odd_squares = [e for e in squares if is_odd(e)]"
   ]
  },
  {
   "cell_type": "code",
   "execution_count": 187,
   "id": "1c345432",
   "metadata": {},
   "outputs": [
    {
     "data": {
      "text/plain": [
       "[1, 9, 25, 49, 81]"
      ]
     },
     "execution_count": 187,
     "metadata": {},
     "output_type": "execute_result"
    }
   ],
   "source": [
    "odd_squares"
   ]
  },
  {
   "cell_type": "code",
   "execution_count": 188,
   "id": "4ac0693f",
   "metadata": {},
   "outputs": [],
   "source": [
    "#ternary conditional\n",
    "\n",
    "weird_squares = [e if e % 2 == 0 else -1 for e in squares]"
   ]
  },
  {
   "cell_type": "code",
   "execution_count": 189,
   "id": "d70a2e3a",
   "metadata": {},
   "outputs": [
    {
     "data": {
      "text/plain": [
       "[-1, 4, -1, 16, -1, 36, -1, 64, -1, 100]"
      ]
     },
     "execution_count": 189,
     "metadata": {},
     "output_type": "execute_result"
    }
   ],
   "source": [
    "weird_squares"
   ]
  },
  {
   "cell_type": "code",
   "execution_count": 192,
   "id": "181e7d94",
   "metadata": {},
   "outputs": [],
   "source": [
    "#dictionary comprehension\n",
    "square_dict = {e:e*e for e in range(1,11)}"
   ]
  },
  {
   "cell_type": "code",
   "execution_count": 193,
   "id": "66a9d11b",
   "metadata": {},
   "outputs": [
    {
     "data": {
      "text/plain": [
       "{1: 1, 2: 4, 3: 9, 4: 16, 5: 25, 6: 36, 7: 49, 8: 64, 9: 81, 10: 100}"
      ]
     },
     "execution_count": 193,
     "metadata": {},
     "output_type": "execute_result"
    }
   ],
   "source": [
    "square_dict"
   ]
  },
  {
   "cell_type": "code",
   "execution_count": 194,
   "id": "4cf472b9",
   "metadata": {},
   "outputs": [
    {
     "data": {
      "text/plain": [
       "81"
      ]
     },
     "execution_count": 194,
     "metadata": {},
     "output_type": "execute_result"
    }
   ],
   "source": [
    "square_dict[9]"
   ]
  },
  {
   "cell_type": "code",
   "execution_count": 197,
   "id": "08d89dd1",
   "metadata": {},
   "outputs": [],
   "source": [
    "#nested_list_comprehension\n",
    "m = [[j for j in range(7)] for _ in range(5)]"
   ]
  },
  {
   "cell_type": "code",
   "execution_count": 198,
   "id": "499f67eb",
   "metadata": {},
   "outputs": [
    {
     "data": {
      "text/plain": [
       "[[0, 1, 2, 3, 4, 5, 6],\n",
       " [0, 1, 2, 3, 4, 5, 6],\n",
       " [0, 1, 2, 3, 4, 5, 6],\n",
       " [0, 1, 2, 3, 4, 5, 6],\n",
       " [0, 1, 2, 3, 4, 5, 6]]"
      ]
     },
     "execution_count": 198,
     "metadata": {},
     "output_type": "execute_result"
    }
   ],
   "source": [
    "m"
   ]
  },
  {
   "cell_type": "code",
   "execution_count": 199,
   "id": "928577ba",
   "metadata": {},
   "outputs": [],
   "source": [
    "flatten_m = [e for l in m for e in l]"
   ]
  },
  {
   "cell_type": "code",
   "execution_count": 200,
   "id": "62d32abf",
   "metadata": {},
   "outputs": [
    {
     "data": {
      "text/plain": [
       "[0,\n",
       " 1,\n",
       " 2,\n",
       " 3,\n",
       " 4,\n",
       " 5,\n",
       " 6,\n",
       " 0,\n",
       " 1,\n",
       " 2,\n",
       " 3,\n",
       " 4,\n",
       " 5,\n",
       " 6,\n",
       " 0,\n",
       " 1,\n",
       " 2,\n",
       " 3,\n",
       " 4,\n",
       " 5,\n",
       " 6,\n",
       " 0,\n",
       " 1,\n",
       " 2,\n",
       " 3,\n",
       " 4,\n",
       " 5,\n",
       " 6,\n",
       " 0,\n",
       " 1,\n",
       " 2,\n",
       " 3,\n",
       " 4,\n",
       " 5,\n",
       " 6]"
      ]
     },
     "execution_count": 200,
     "metadata": {},
     "output_type": "execute_result"
    }
   ],
   "source": [
    "flatten_m"
   ]
  },
  {
   "cell_type": "code",
   "execution_count": 201,
   "id": "5ae54263",
   "metadata": {},
   "outputs": [],
   "source": [
    "flatten_even = [e for l in m for e in l if e%2 == 0]"
   ]
  },
  {
   "cell_type": "code",
   "execution_count": 202,
   "id": "504a3da5",
   "metadata": {},
   "outputs": [
    {
     "data": {
      "text/plain": [
       "[0, 2, 4, 6, 0, 2, 4, 6, 0, 2, 4, 6, 0, 2, 4, 6, 0, 2, 4, 6]"
      ]
     },
     "execution_count": 202,
     "metadata": {},
     "output_type": "execute_result"
    }
   ],
   "source": [
    "flatten_even"
   ]
  },
  {
   "cell_type": "code",
   "execution_count": null,
   "id": "2fea6ddc",
   "metadata": {},
   "outputs": [],
   "source": []
  },
  {
   "cell_type": "code",
   "execution_count": 203,
   "id": "a389e094",
   "metadata": {},
   "outputs": [],
   "source": [
    "x,y,z,n = 2,2,2,2"
   ]
  },
  {
   "cell_type": "code",
   "execution_count": 218,
   "id": "217d0016",
   "metadata": {},
   "outputs": [],
   "source": [
    "result = [ [[[i,j,k] for i in range(x+1)  if (i+j+k) != n ] for j in range(y+1)] for k in range(z+1)]"
   ]
  },
  {
   "cell_type": "code",
   "execution_count": 219,
   "id": "982c90d3",
   "metadata": {},
   "outputs": [
    {
     "data": {
      "text/plain": [
       "[[[[0, 0, 0], [1, 0, 0]], [[0, 1, 0], [2, 1, 0]], [[1, 2, 0], [2, 2, 0]]],\n",
       " [[[0, 0, 1], [2, 0, 1]],\n",
       "  [[1, 1, 1], [2, 1, 1]],\n",
       "  [[0, 2, 1], [1, 2, 1], [2, 2, 1]]],\n",
       " [[[1, 0, 2], [2, 0, 2]],\n",
       "  [[0, 1, 2], [1, 1, 2], [2, 1, 2]],\n",
       "  [[0, 2, 2], [1, 2, 2], [2, 2, 2]]]]"
      ]
     },
     "execution_count": 219,
     "metadata": {},
     "output_type": "execute_result"
    }
   ],
   "source": [
    "result"
   ]
  },
  {
   "cell_type": "code",
   "execution_count": 220,
   "id": "e0902085",
   "metadata": {},
   "outputs": [
    {
     "name": "stdout",
     "output_type": "stream",
     "text": [
      "2\n",
      "2\n",
      "2\n",
      "3\n",
      "[[0, 0, 0], [0, 0, 1], [0, 0, 2], [0, 1, 0], [0, 1, 1], [0, 2, 0], [0, 2, 2], [1, 0, 0], [1, 0, 1], [1, 1, 0], [1, 1, 2], [1, 2, 1], [1, 2, 2], [2, 0, 0], [2, 0, 2], [2, 1, 1], [2, 1, 2], [2, 2, 0], [2, 2, 1], [2, 2, 2]]\n"
     ]
    }
   ],
   "source": [
    "#hackerrank\n",
    "x = int(input())\n",
    "y = int(input())\n",
    "z = int(input())\n",
    "n = int(input())\n",
    "result = [ [i,j,k] for i in range(x+1) for j in range(y+1) for k in range(z+1)  if (i+j+k) != n]\n",
    "print(result)\n",
    "    "
   ]
  },
  {
   "cell_type": "code",
   "execution_count": 221,
   "id": "b7c7b68e",
   "metadata": {},
   "outputs": [
    {
     "name": "stdout",
     "output_type": "stream",
     "text": [
      "4 7\n"
     ]
    }
   ],
   "source": [
    "x,y = (4,7)\n",
    "print(x,y)"
   ]
  },
  {
   "cell_type": "code",
   "execution_count": 224,
   "id": "080afb08",
   "metadata": {},
   "outputs": [
    {
     "name": "stdout",
     "output_type": "stream",
     "text": [
      "4\n"
     ]
    }
   ],
   "source": [
    "x, _ = (4,7)\n",
    "print(x)"
   ]
  },
  {
   "cell_type": "code",
   "execution_count": 225,
   "id": "7cbf8005",
   "metadata": {},
   "outputs": [],
   "source": [
    "x,y,*z = (4,6,8,9,11,14)"
   ]
  },
  {
   "cell_type": "code",
   "execution_count": 230,
   "id": "0c8fe04c",
   "metadata": {},
   "outputs": [
    {
     "name": "stdout",
     "output_type": "stream",
     "text": [
      "4\n",
      "6\n",
      "[8, 9, 11, 14]\n"
     ]
    }
   ],
   "source": [
    "print(x)\n",
    "print(y)\n",
    "print(z)"
   ]
  },
  {
   "cell_type": "code",
   "execution_count": 231,
   "id": "a590a29c",
   "metadata": {},
   "outputs": [],
   "source": [
    "x,y,*z, t = (4,6,8,9,11,14)"
   ]
  },
  {
   "cell_type": "code",
   "execution_count": 233,
   "id": "6b0d7bd1",
   "metadata": {},
   "outputs": [
    {
     "name": "stdout",
     "output_type": "stream",
     "text": [
      "4\n",
      "6\n",
      "[8, 9, 11]\n",
      "14\n"
     ]
    }
   ],
   "source": [
    "print(x)\n",
    "print(y)\n",
    "print(z)\n",
    "print(t)"
   ]
  },
  {
   "cell_type": "code",
   "execution_count": 234,
   "id": "5bc7a1a8",
   "metadata": {},
   "outputs": [],
   "source": [
    "#enumerate\n",
    "l = [(1,2), (3,4), (5,6)]\n"
   ]
  },
  {
   "cell_type": "code",
   "execution_count": 235,
   "id": "1d933bee",
   "metadata": {},
   "outputs": [
    {
     "name": "stdout",
     "output_type": "stream",
     "text": [
      "1    2\n",
      "3    4\n",
      "5    6\n"
     ]
    }
   ],
   "source": [
    "for x,y in l:\n",
    "    print(x , \"  \", y)"
   ]
  },
  {
   "cell_type": "code",
   "execution_count": 236,
   "id": "f3082db8",
   "metadata": {},
   "outputs": [],
   "source": [
    "adlar = [\"a1\", \"a2\", \"a3\", \"a4\",\"a5\"]"
   ]
  },
  {
   "cell_type": "code",
   "execution_count": 239,
   "id": "9f923454",
   "metadata": {},
   "outputs": [
    {
     "name": "stdout",
     "output_type": "stream",
     "text": [
      "1 -> a1\n",
      "2 -> a2\n",
      "3 -> a3\n",
      "4 -> a4\n",
      "5 -> a5\n"
     ]
    }
   ],
   "source": [
    "for i,e in enumerate(adlar, start=1):\n",
    "    print(i, \"->\",e)"
   ]
  },
  {
   "cell_type": "code",
   "execution_count": 240,
   "id": "9b2cb946",
   "metadata": {},
   "outputs": [],
   "source": [
    "# zip()\n",
    "\n",
    "adlar = [\"a1\", \"a2\", \"a3\", \"a4\",\"a5\"]\n",
    "maas = [111,2222,333,444,5555]"
   ]
  },
  {
   "cell_type": "code",
   "execution_count": 242,
   "id": "55708b38",
   "metadata": {},
   "outputs": [
    {
     "name": "stdout",
     "output_type": "stream",
     "text": [
      "a1  ->  111\n",
      "a2  ->  2222\n",
      "a3  ->  333\n",
      "a4  ->  444\n",
      "a5  ->  5555\n"
     ]
    }
   ],
   "source": [
    "for a,m in zip(adlar,maas):\n",
    "    print(a , \" -> \", m)"
   ]
  },
  {
   "cell_type": "code",
   "execution_count": 243,
   "id": "2cb63c66",
   "metadata": {},
   "outputs": [],
   "source": [
    "#zip() ile dictionary yaratmak\n",
    "d = {}\n",
    "for k,v in zip(adlar,maas):\n",
    "    d[k] = v"
   ]
  },
  {
   "cell_type": "code",
   "execution_count": 244,
   "id": "876f53f7",
   "metadata": {},
   "outputs": [
    {
     "data": {
      "text/plain": [
       "{'a1': 111, 'a2': 2222, 'a3': 333, 'a4': 444, 'a5': 5555}"
      ]
     },
     "execution_count": 244,
     "metadata": {},
     "output_type": "execute_result"
    }
   ],
   "source": [
    "d"
   ]
  },
  {
   "cell_type": "code",
   "execution_count": 246,
   "id": "212dafaf",
   "metadata": {},
   "outputs": [],
   "source": [
    "def square(x):\n",
    "    \"\"\"\n",
    "    x'in karesini hesaplar\n",
    "    \"\"\"\n",
    "    res = x * x\n",
    "    return res"
   ]
  },
  {
   "cell_type": "code",
   "execution_count": 253,
   "id": "661efb2e",
   "metadata": {},
   "outputs": [],
   "source": [
    "?square"
   ]
  },
  {
   "cell_type": "code",
   "execution_count": 254,
   "id": "7a732786",
   "metadata": {},
   "outputs": [],
   "source": [
    "??square"
   ]
  },
  {
   "cell_type": "code",
   "execution_count": 251,
   "id": "e3311c56",
   "metadata": {},
   "outputs": [
    {
     "data": {
      "text/plain": [
       "16"
      ]
     },
     "execution_count": 251,
     "metadata": {},
     "output_type": "execute_result"
    }
   ],
   "source": [
    "square(4)"
   ]
  },
  {
   "cell_type": "code",
   "execution_count": 255,
   "id": "1e799ad5",
   "metadata": {},
   "outputs": [
    {
     "ename": "SyntaxError",
     "evalue": "non-default argument follows default argument (<ipython-input-255-9e452c2f4f3a>, line 2)",
     "output_type": "error",
     "traceback": [
      "\u001b[1;36m  File \u001b[1;32m\"<ipython-input-255-9e452c2f4f3a>\"\u001b[1;36m, line \u001b[1;32m2\u001b[0m\n\u001b[1;33m    def hello(start=\"hello\", end):\u001b[0m\n\u001b[1;37m              ^\u001b[0m\n\u001b[1;31mSyntaxError\u001b[0m\u001b[1;31m:\u001b[0m non-default argument follows default argument\n"
     ]
    }
   ],
   "source": [
    "#predefined parameters\n",
    "def hello(start=\"hello\", end):\n",
    "    print(start+end)"
   ]
  },
  {
   "cell_type": "code",
   "execution_count": 256,
   "id": "0742063f",
   "metadata": {},
   "outputs": [],
   "source": [
    "def hello(end, start=\"hello\"):\n",
    "    print(start+end)"
   ]
  },
  {
   "cell_type": "code",
   "execution_count": 258,
   "id": "d4c3670a",
   "metadata": {},
   "outputs": [
    {
     "name": "stdout",
     "output_type": "stream",
     "text": [
      "hello bye\n"
     ]
    }
   ],
   "source": [
    "hello(\" bye\")"
   ]
  },
  {
   "cell_type": "code",
   "execution_count": 259,
   "id": "d8e39835",
   "metadata": {},
   "outputs": [],
   "source": [
    "#underscore placeholders\n",
    "\n",
    "num_1 = 90000000000"
   ]
  },
  {
   "cell_type": "code",
   "execution_count": 260,
   "id": "047d1ca0",
   "metadata": {},
   "outputs": [],
   "source": [
    "num_2 = 90_000_000_000"
   ]
  },
  {
   "cell_type": "code",
   "execution_count": 261,
   "id": "b036463b",
   "metadata": {},
   "outputs": [
    {
     "data": {
      "text/plain": [
       "0"
      ]
     },
     "execution_count": 261,
     "metadata": {},
     "output_type": "execute_result"
    }
   ],
   "source": [
    "num_1 - num_2"
   ]
  },
  {
   "cell_type": "code",
   "execution_count": 262,
   "id": "0115df0a",
   "metadata": {},
   "outputs": [],
   "source": [
    "num_3 = 0.12_11_12"
   ]
  },
  {
   "cell_type": "code",
   "execution_count": 263,
   "id": "5d359069",
   "metadata": {},
   "outputs": [
    {
     "data": {
      "text/plain": [
       "0.121112"
      ]
     },
     "execution_count": 263,
     "metadata": {},
     "output_type": "execute_result"
    }
   ],
   "source": [
    "num_3"
   ]
  },
  {
   "cell_type": "code",
   "execution_count": 265,
   "id": "ce3be4cd",
   "metadata": {},
   "outputs": [
    {
     "data": {
      "text/plain": [
       "'x in degeri 4'"
      ]
     },
     "execution_count": 265,
     "metadata": {},
     "output_type": "execute_result"
    }
   ],
   "source": [
    "# fstrings\n",
    "x=4\n",
    "f\"x in degeri {x}\""
   ]
  },
  {
   "cell_type": "code",
   "execution_count": 266,
   "id": "13f0f1b7",
   "metadata": {},
   "outputs": [
    {
     "data": {
      "text/plain": [
       "'x in degeri 10'"
      ]
     },
     "execution_count": 266,
     "metadata": {},
     "output_type": "execute_result"
    }
   ],
   "source": [
    "f\"x in degeri {x+6}\""
   ]
  },
  {
   "cell_type": "code",
   "execution_count": 268,
   "id": "422d763b",
   "metadata": {},
   "outputs": [
    {
     "data": {
      "text/plain": [
       "'x in adı : seyit'"
      ]
     },
     "execution_count": 268,
     "metadata": {},
     "output_type": "execute_result"
    }
   ],
   "source": [
    "isim = \"seyit\"\n",
    "f\"x in adı : {isim}\""
   ]
  },
  {
   "cell_type": "code",
   "execution_count": null,
   "id": "fd2bc5ea",
   "metadata": {},
   "outputs": [],
   "source": []
  },
  {
   "cell_type": "code",
   "execution_count": null,
   "id": "b84421a4",
   "metadata": {},
   "outputs": [],
   "source": []
  },
  {
   "cell_type": "code",
   "execution_count": null,
   "id": "30b2bf21",
   "metadata": {},
   "outputs": [],
   "source": []
  },
  {
   "cell_type": "code",
   "execution_count": null,
   "id": "4fd07937",
   "metadata": {},
   "outputs": [],
   "source": []
  },
  {
   "cell_type": "code",
   "execution_count": null,
   "id": "bde8689d",
   "metadata": {},
   "outputs": [],
   "source": []
  },
  {
   "cell_type": "code",
   "execution_count": null,
   "id": "fcc4448c",
   "metadata": {},
   "outputs": [],
   "source": []
  },
  {
   "cell_type": "code",
   "execution_count": null,
   "id": "fc0e9086",
   "metadata": {},
   "outputs": [],
   "source": []
  },
  {
   "cell_type": "code",
   "execution_count": null,
   "id": "ba555954",
   "metadata": {},
   "outputs": [],
   "source": []
  },
  {
   "cell_type": "code",
   "execution_count": null,
   "id": "34f7bb68",
   "metadata": {},
   "outputs": [],
   "source": []
  },
  {
   "cell_type": "code",
   "execution_count": null,
   "id": "af11c9c8",
   "metadata": {},
   "outputs": [],
   "source": []
  },
  {
   "cell_type": "code",
   "execution_count": null,
   "id": "1932e94b",
   "metadata": {},
   "outputs": [],
   "source": []
  },
  {
   "cell_type": "code",
   "execution_count": null,
   "id": "b3795a36",
   "metadata": {},
   "outputs": [],
   "source": []
  },
  {
   "cell_type": "code",
   "execution_count": null,
   "id": "c4974ba2",
   "metadata": {},
   "outputs": [],
   "source": []
  },
  {
   "cell_type": "code",
   "execution_count": null,
   "id": "3f0f9ea2",
   "metadata": {},
   "outputs": [],
   "source": []
  },
  {
   "cell_type": "code",
   "execution_count": null,
   "id": "b9761b78",
   "metadata": {},
   "outputs": [],
   "source": []
  },
  {
   "cell_type": "code",
   "execution_count": null,
   "id": "6a6f189b",
   "metadata": {},
   "outputs": [],
   "source": []
  },
  {
   "cell_type": "code",
   "execution_count": null,
   "id": "70647131",
   "metadata": {},
   "outputs": [],
   "source": []
  },
  {
   "cell_type": "code",
   "execution_count": null,
   "id": "aaa4ca4f",
   "metadata": {},
   "outputs": [],
   "source": []
  }
 ],
 "metadata": {
  "kernelspec": {
   "display_name": "Python 3",
   "language": "python",
   "name": "python3"
  },
  "language_info": {
   "codemirror_mode": {
    "name": "ipython",
    "version": 3
   },
   "file_extension": ".py",
   "mimetype": "text/x-python",
   "name": "python",
   "nbconvert_exporter": "python",
   "pygments_lexer": "ipython3",
   "version": "3.8.10"
  }
 },
 "nbformat": 4,
 "nbformat_minor": 5
}
