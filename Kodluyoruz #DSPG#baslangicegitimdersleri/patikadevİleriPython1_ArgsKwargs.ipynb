{
  "nbformat": 4,
  "nbformat_minor": 0,
  "metadata": {
    "colab": {
      "name": "patikadevİleriPython_ArgsKwargs.ipynb",
      "provenance": [],
      "collapsed_sections": []
    },
    "kernelspec": {
      "name": "python3",
      "display_name": "Python 3"
    },
    "language_info": {
      "name": "python"
    }
  },
  "cells": [
    {
      "cell_type": "markdown",
      "metadata": {
        "id": "Z5L3q0Pej_8v"
      },
      "source": [
        "#Args&Kwargs"
      ]
    },
    {
      "cell_type": "markdown",
      "metadata": {
        "id": "GUnsWuhHkKeL"
      },
      "source": [
        "1)Args \n",
        ".Değişken sayılı parametre vermenin bir yolu. list/tuple objelerini unpach yaapr ama disctionary objelerini yapmaz."
      ]
    },
    {
      "cell_type": "code",
      "metadata": {
        "id": "xgzodSixj7tZ"
      },
      "source": [
        "def sum(numbers):\n",
        "  res = 0\n",
        "  for e in numbers:\n",
        "    res += e\n",
        "  return "
      ],
      "execution_count": 1,
      "outputs": []
    },
    {
      "cell_type": "markdown",
      "metadata": {
        "id": "6dDYqW2sklXj"
      },
      "source": [
        "*args'ın anlamı, en başta tuple gibi bir objem vardı ama bunu tek tek elemanlarını ayırdım demek."
      ]
    },
    {
      "cell_type": "code",
      "metadata": {
        "id": "YLRLMHo2kdch"
      },
      "source": [
        "def sum_(*text):\n",
        "  print(type(text))\n",
        "  for e in text:\n",
        "    print(type(e))\n",
        "    print(e)\n",
        "  "
      ],
      "execution_count": 11,
      "outputs": []
    },
    {
      "cell_type": "code",
      "metadata": {
        "colab": {
          "base_uri": "https://localhost:8080/"
        },
        "id": "kTs5DTySkdfT",
        "outputId": "e4b407c9-1c24-478a-9b44-7760e631f6d6"
      },
      "source": [
        "# *args = 1,2,3,4 olduğunu varsayacak, yani args'ın tek tek elemanlarına ayrılmış hali 1,2,3,4 ozaman orijinali : args=(1,2,3,4)\n",
        "sum_('1','2',3,4)"
      ],
      "execution_count": 13,
      "outputs": [
        {
          "output_type": "stream",
          "text": [
            "<class 'tuple'>\n",
            "<class 'str'>\n",
            "1\n",
            "<class 'str'>\n",
            "2\n",
            "<class 'int'>\n",
            "3\n",
            "<class 'int'>\n",
            "4\n"
          ],
          "name": "stdout"
        }
      ]
    },
    {
      "cell_type": "code",
      "metadata": {
        "id": "GuvHOQgakdh_"
      },
      "source": [
        "def sum_2(*args):\n",
        "  res = 0\n",
        "  print(type(args))\n",
        "  print(args)\n",
        "\n",
        "  print(len(args))\n",
        "\n",
        "  for e in args:\n",
        "    for j in e:\n",
        "      res += j\n",
        "  return res"
      ],
      "execution_count": 14,
      "outputs": []
    },
    {
      "cell_type": "code",
      "metadata": {
        "colab": {
          "base_uri": "https://localhost:8080/"
        },
        "id": "pzIKKQtkkdlV",
        "outputId": "31625baf-0384-40d5-a009-0f4ecfa94ed4"
      },
      "source": [
        "sum_2([1,2])"
      ],
      "execution_count": 15,
      "outputs": [
        {
          "output_type": "stream",
          "text": [
            "<class 'tuple'>\n",
            "([1, 2],)\n",
            "1\n"
          ],
          "name": "stdout"
        },
        {
          "output_type": "execute_result",
          "data": {
            "text/plain": [
              "3"
            ]
          },
          "metadata": {
            "tags": []
          },
          "execution_count": 15
        }
      ]
    },
    {
      "cell_type": "markdown",
      "metadata": {
        "id": "vlYBCMVMmnJZ"
      },
      "source": [
        "#2) Kwargs\n",
        ". Fonksiyona değişken sayıda keyword arguement verebilmemizi sağlar. \n",
        "\n",
        ". dictionary yapısına sahiptir."
      ]
    },
    {
      "cell_type": "code",
      "metadata": {
        "id": "qMqfNm3EkdpN"
      },
      "source": [
        "def students(**kwargs):\n",
        "\n",
        "  for v in kwargs.values():\n",
        "    print(v)"
      ],
      "execution_count": 16,
      "outputs": []
    },
    {
      "cell_type": "code",
      "metadata": {
        "colab": {
          "base_uri": "https://localhost:8080/"
        },
        "id": "sNluONZtkdrK",
        "outputId": "b5f9a80a-4627-47bc-e39c-7805e61a7396"
      },
      "source": [
        "students(name=\"Jake\", student_number=\"401\")"
      ],
      "execution_count": 17,
      "outputs": [
        {
          "output_type": "stream",
          "text": [
            "Jake\n",
            "401\n"
          ],
          "name": "stdout"
        }
      ]
    },
    {
      "cell_type": "code",
      "metadata": {
        "id": "TPmkvN4ykdtC"
      },
      "source": [
        "def students_(**students):\n",
        "  print(students)\n",
        "  for v in students.values():\n",
        "    print(v)"
      ],
      "execution_count": 23,
      "outputs": []
    },
    {
      "cell_type": "code",
      "metadata": {
        "colab": {
          "base_uri": "https://localhost:8080/"
        },
        "id": "fX1IcCInkdwA",
        "outputId": "706c35d4-b1e2-405d-ba8d-55dcc8794dda"
      },
      "source": [
        "students_(name=\"Jake\", student_number=\"401\")"
      ],
      "execution_count": 24,
      "outputs": [
        {
          "output_type": "stream",
          "text": [
            "{'name': 'Jake', 'student_number': '401'}\n",
            "Jake\n",
            "401\n"
          ],
          "name": "stdout"
        }
      ]
    },
    {
      "cell_type": "markdown",
      "metadata": {
        "id": "m3Hti_eWnaLJ"
      },
      "source": [
        "#3) Using Args and Kwargs Together\n",
        "Kullanım sırası önemlidir."
      ]
    },
    {
      "cell_type": "code",
      "metadata": {
        "id": "cZIU-ozmkdzY"
      },
      "source": [
        "def weird(*args, **kwargs):\n",
        "  res = 0\n",
        "  for e in args:\n",
        "    res+= e\n",
        "\n",
        "  for k,v in kwargs.items():\n",
        "    print(k,\":\",v)\n",
        "  return res "
      ],
      "execution_count": 25,
      "outputs": []
    },
    {
      "cell_type": "code",
      "metadata": {
        "colab": {
          "base_uri": "https://localhost:8080/"
        },
        "id": "AKc7vgyYkd4q",
        "outputId": "25bc50bb-deba-4b31-f43b-d51b857320a6"
      },
      "source": [
        "weird(1,2,3, name=\"seyit\", student_number=333)"
      ],
      "execution_count": 26,
      "outputs": [
        {
          "output_type": "stream",
          "text": [
            "name : seyit\n",
            "student_number : 333\n"
          ],
          "name": "stdout"
        },
        {
          "output_type": "execute_result",
          "data": {
            "text/plain": [
              "6"
            ]
          },
          "metadata": {
            "tags": []
          },
          "execution_count": 26
        }
      ]
    },
    {
      "cell_type": "code",
      "metadata": {
        "colab": {
          "base_uri": "https://localhost:8080/"
        },
        "id": "vDmOi2jGkd7b",
        "outputId": "3eb9da82-46d0-43fe-91a6-578ecf64f87c"
      },
      "source": [
        "weird(1,2,3,4,5, name=\"seyit\", student_number=333)"
      ],
      "execution_count": 27,
      "outputs": [
        {
          "output_type": "stream",
          "text": [
            "name : seyit\n",
            "student_number : 333\n"
          ],
          "name": "stdout"
        },
        {
          "output_type": "execute_result",
          "data": {
            "text/plain": [
              "15"
            ]
          },
          "metadata": {
            "tags": []
          },
          "execution_count": 27
        }
      ]
    },
    {
      "cell_type": "markdown",
      "metadata": {
        "id": "GzfKzBb3oCT-"
      },
      "source": [
        "#Unpacking"
      ]
    },
    {
      "cell_type": "code",
      "metadata": {
        "colab": {
          "base_uri": "https://localhost:8080/"
        },
        "id": "66YMU96dkd8y",
        "outputId": "e8cbf4e2-f3dc-4b94-b7fb-a30ef7a91ef5"
      },
      "source": [
        "l = [1,2,3,4]\n",
        "print(l)"
      ],
      "execution_count": 28,
      "outputs": [
        {
          "output_type": "stream",
          "text": [
            "[1, 2, 3, 4]\n"
          ],
          "name": "stdout"
        }
      ]
    },
    {
      "cell_type": "code",
      "metadata": {
        "colab": {
          "base_uri": "https://localhost:8080/"
        },
        "id": "0VRKjKBvkd-C",
        "outputId": "ee49c3de-365a-47dd-d8af-5b0852e9c40f"
      },
      "source": [
        "print(*l) #unpack list with star"
      ],
      "execution_count": 29,
      "outputs": [
        {
          "output_type": "stream",
          "text": [
            "1 2 3 4\n"
          ],
          "name": "stdout"
        }
      ]
    },
    {
      "cell_type": "code",
      "metadata": {
        "id": "MlP7FeKokeBL"
      },
      "source": [
        "l1 = [1,2,3,4]\n",
        "l2 = [20,21]"
      ],
      "execution_count": 30,
      "outputs": []
    },
    {
      "cell_type": "code",
      "metadata": {
        "colab": {
          "base_uri": "https://localhost:8080/"
        },
        "id": "A5obkSo_keEF",
        "outputId": "4ecf90b0-b371-41c4-a077-09ae59d715be"
      },
      "source": [
        "merged_l = [*l1, *l2]\n",
        "merged_l"
      ],
      "execution_count": 32,
      "outputs": [
        {
          "output_type": "execute_result",
          "data": {
            "text/plain": [
              "[1, 2, 3, 4, 20, 21]"
            ]
          },
          "metadata": {
            "tags": []
          },
          "execution_count": 32
        }
      ]
    },
    {
      "cell_type": "code",
      "metadata": {
        "colab": {
          "base_uri": "https://localhost:8080/"
        },
        "id": "YoIQZCJKpTgN",
        "outputId": "16e13db4-67d4-4e8a-9ea5-bff88a2a1e9f"
      },
      "source": [
        "#with this way, i cant reach that i want go point\n",
        "[l1,l2]"
      ],
      "execution_count": 33,
      "outputs": [
        {
          "output_type": "execute_result",
          "data": {
            "text/plain": [
              "[[1, 2, 3, 4], [20, 21]]"
            ]
          },
          "metadata": {
            "tags": []
          },
          "execution_count": 33
        }
      ]
    },
    {
      "cell_type": "code",
      "metadata": {
        "id": "SqVFeeXApTi0"
      },
      "source": [
        "d1 = {\"name\":\"soner\", \"number\":12}\n",
        "d2 = {\"last_name\":\"keramet\", \"grade\": 90}\n",
        "d3 = {\"name\":\"helim\", \"number\":44}"
      ],
      "execution_count": 40,
      "outputs": []
    },
    {
      "cell_type": "code",
      "metadata": {
        "id": "NE7D0K3ApTl0"
      },
      "source": [
        "# with this way, i have taken error \n",
        "# d1+d2"
      ],
      "execution_count": 36,
      "outputs": []
    },
    {
      "cell_type": "code",
      "metadata": {
        "colab": {
          "base_uri": "https://localhost:8080/"
        },
        "id": "BLJSRefApT7t",
        "outputId": "7930a928-75c8-45b0-b516-b172a0416775"
      },
      "source": [
        "d_merged = {**d1, **d2}\n",
        "d_merged"
      ],
      "execution_count": 41,
      "outputs": [
        {
          "output_type": "execute_result",
          "data": {
            "text/plain": [
              "{'grade': 90, 'last_name': 'keramet', 'name': 'soner', 'number': 12}"
            ]
          },
          "metadata": {
            "tags": []
          },
          "execution_count": 41
        }
      ]
    },
    {
      "cell_type": "code",
      "metadata": {
        "colab": {
          "base_uri": "https://localhost:8080/"
        },
        "id": "AB8heelnpT-h",
        "outputId": "1a9e20df-a1fa-428e-e9e6-f87ae469f320"
      },
      "source": [
        "d_merged_3 = {**d1, **d3}\n",
        "d_merged_3"
      ],
      "execution_count": 43,
      "outputs": [
        {
          "output_type": "execute_result",
          "data": {
            "text/plain": [
              "{'name': 'helim', 'number': 44}"
            ]
          },
          "metadata": {
            "tags": []
          },
          "execution_count": 43
        }
      ]
    },
    {
      "cell_type": "code",
      "metadata": {
        "colab": {
          "base_uri": "https://localhost:8080/"
        },
        "id": "dmf1HHJ5keG6",
        "outputId": "3a21f83a-e417-466a-b8b3-d65299d86040"
      },
      "source": [
        "str_list = [*\"hey this is a mice\"]\n",
        "str_list"
      ],
      "execution_count": 45,
      "outputs": [
        {
          "output_type": "execute_result",
          "data": {
            "text/plain": [
              "['h',\n",
              " 'e',\n",
              " 'y',\n",
              " ' ',\n",
              " 't',\n",
              " 'h',\n",
              " 'i',\n",
              " 's',\n",
              " ' ',\n",
              " 'i',\n",
              " 's',\n",
              " ' ',\n",
              " 'a',\n",
              " ' ',\n",
              " 'm',\n",
              " 'i',\n",
              " 'c',\n",
              " 'e']"
            ]
          },
          "metadata": {
            "tags": []
          },
          "execution_count": 45
        }
      ]
    },
    {
      "cell_type": "code",
      "metadata": {
        "colab": {
          "base_uri": "https://localhost:8080/"
        },
        "id": "1yz71VeQkeKo",
        "outputId": "2dd2ec41-a78f-45df-b74b-8fed5f7d3f57"
      },
      "source": [
        "str_list_2 = [*\"hey\"]\n",
        "str_list_2"
      ],
      "execution_count": 46,
      "outputs": [
        {
          "output_type": "execute_result",
          "data": {
            "text/plain": [
              "['h', 'e', 'y']"
            ]
          },
          "metadata": {
            "tags": []
          },
          "execution_count": 46
        }
      ]
    }
  ]
}